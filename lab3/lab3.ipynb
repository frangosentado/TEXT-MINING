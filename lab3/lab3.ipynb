{
 "cells": [
  {
   "cell_type": "markdown",
   "id": "6cf0bae6-3502-4a49-9d29-8307e5c69aef",
   "metadata": {
    "jp-MarkdownHeadingCollapsed": true,
    "tags": []
   },
   "source": [
    "# Question 1\n",
    "\n",
    "```\n",
    "INPUT SENTENCE 1 I love apples\n",
    "VADER OUTPUT {'neg': 0.0, 'neu': 0.192, 'pos': 0.808, 'compound': 0.6369}\n",
    "\n",
    "```\n",
    "#### There is a correct interpretation that the sentence is positive, given by the fact that it contains the word 'love', which in the lexicon has a sentiment rating of 3.2 (close to 4), which indicates a positive sentiment.\n",
    "\n",
    "```\n",
    "INPUT SENTENCE 2 I don't love apples\n",
    "VADER OUTPUT {'neg': 0.627, 'neu': 0.373, 'pos': 0.0, 'compound': -0.5216}\n",
    "```\n",
    "#### There is a correct interpretation that the sentence is a little negative and neutral, given by the fact that it contains the word 'love', which in the lexicon has a sentiment rating of 3.2 (close to 4), but also has the negation \"don't\". This negation inverts the polarity of \"love\", that is, although \"love\" is a positive word, it is interpreted as negative one. \n",
    "\n",
    "```\n",
    "INPUT SENTENCE 3 I love apples :-)\n",
    "VADER OUTPUT {'neg': 0.0, 'neu': 0.133, 'pos': 0.867, 'compound': 0.7579}\n",
    "```\n",
    "#### There is a correct interpretation that it is highly positive. It recognizes the word \"love\" as highly positive in the lexicon and also considers the presence of the emoticon \":-)\" as an intensifier, contributing to the overall positive sentiment.\n",
    "```\n",
    "\n",
    "INPUT SENTENCE 4 These houses are ruins\n",
    "VADER OUTPUT {'neg': 0.492, 'neu': 0.508, 'pos': 0.0, 'compound': -0.4404}\n",
    "\n",
    "```\n",
    "#### Here, VADER is a little unsure wether the sentence is negative or neutral, although not positive, which is good. That is because \"ruins\" is considered in the lexicon as negative (-1.9), but as there are no other negative intensifiers, it is more neutral.\n",
    "\n",
    "INPUT SENTENCE 5 These houses are certainly not considered ruins\n",
    "VADER OUTPUT {'neg': 0.0, 'neu': 0.51, 'pos': 0.49, 'compound': 0.5867}\n",
    "\n",
    "#### Here, VADER gives a correct interpretation of the sentence as being positive and neutral. That is because, although it recognizes \"ruins\" as being negative, it turns it to positive because of the intensified negator \"certainly not\". As there are no more intensifiers of sentiment, the sentence also oscilates torwards a neutral sentiment.\n",
    "\n",
    "```\n",
    "INPUT SENTENCE 6 He lies in the chair in the garden\n",
    "VADER OUTPUT {'neg': 0.286, 'neu': 0.714, 'pos': 0.0, 'compound': -0.4215}\n",
    "\n",
    "```\n",
    "#### Here, there is a bit of misinterpretation. Although the sentence is completely neutral, given that is is just an information, VADER interprets the word \"lies\" as negative in its lexicon. That is because this word is a homonym to the infinitive verb \"lies\", which means \"to not tell the truth\", which induces a negative sentiment. This makes it interpret the sentence as having 28.6% of negative content, although it should be 100% neutral.\n",
    "\n",
    "```\n",
    "INPUT SENTENCE 7 This house is like any house\n",
    "VADER OUTPUT {'neg': 0.0, 'neu': 0.667, 'pos': 0.333, 'compound': 0.3612\n",
    "```\n",
    "\n",
    "#### Here, VADER made the same mistake as INPUT SENTENCE 6, but instead of negative, it interpreted the sentence as being one third positive, although it should also be completely neutral. That is because it recognizes the word \"like\" as having a positive valence score in its lexicon, because it is a homonym to the verb \"like\" as in \"to like something\"."
   ]
  },
  {
   "cell_type": "code",
   "execution_count": null,
   "id": "c202678a-4f5b-44b8-9c85-1f816c64f331",
   "metadata": {},
   "outputs": [],
   "source": []
  }
 ],
 "metadata": {
  "kernelspec": {
   "display_name": "Python 3 (ipykernel)",
   "language": "python",
   "name": "python3"
  },
  "language_info": {
   "codemirror_mode": {
    "name": "ipython",
    "version": 3
   },
   "file_extension": ".py",
   "mimetype": "text/x-python",
   "name": "python",
   "nbconvert_exporter": "python",
   "pygments_lexer": "ipython3",
   "version": "3.11.7"
  }
 },
 "nbformat": 4,
 "nbformat_minor": 5
}
