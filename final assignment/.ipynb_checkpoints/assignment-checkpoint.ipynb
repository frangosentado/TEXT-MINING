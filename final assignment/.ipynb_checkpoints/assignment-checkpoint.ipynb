{
 "cells": [
  {
   "cell_type": "markdown",
   "id": "9d4fd7df-c0c2-4f54-aa55-b207f80a701b",
   "metadata": {},
   "source": [
    "# Final Assignment"
   ]
  },
  {
   "cell_type": "markdown",
   "id": "24000cc3-29d9-4e1d-b62c-5583558c56be",
   "metadata": {
    "tags": []
   },
   "source": [
    "## Sentiment analysis"
   ]
  },
  {
   "cell_type": "code",
   "execution_count": 1,
   "id": "b9b8eae9-93a9-4811-a002-fb21fbc35618",
   "metadata": {
    "tags": []
   },
   "outputs": [],
   "source": [
    "import pandas as pd\n",
    "import nltk\n",
    "from nltk.corpus import stopwords\n",
    "from sklearn.model_selection import train_test_split\n",
    "from sklearn.feature_extraction.text import CountVectorizer,TfidfTransformer\n",
    "from sklearn.naive_bayes import MultinomialNB\n",
    "from sklearn.metrics import classification_report\n"
   ]
  },
  {
   "cell_type": "code",
   "execution_count": 2,
   "id": "f8aea5ad-4faa-4568-b5ff-02aa2872c666",
   "metadata": {
    "tags": []
   },
   "outputs": [],
   "source": [
    "#getting the datasets\n",
    "from sklearn.datasets import load_files\n",
    "import pathlib\n",
    "\n",
    "cwd = pathlib.Path.cwd()\n",
    "airline_tweets_folder = cwd.joinpath('airlinetweets')\n",
    "airline_dataset = load_files(airline_tweets_folder)\n",
    "\n",
    "test_dataset = pd.read_csv(\"./sentiment-topic-test.tsv\", sep='\\t')"
   ]
  },
  {
   "cell_type": "code",
   "execution_count": 11,
   "id": "1fbb6a4e-57c7-4303-b440-2f63f84e3613",
   "metadata": {
    "tags": []
   },
   "outputs": [
    {
     "ename": "SyntaxError",
     "evalue": "invalid syntax (2511404191.py, line 9)",
     "output_type": "error",
     "traceback": [
      "\u001b[0;36m  Cell \u001b[0;32mIn[11], line 9\u001b[0;36m\u001b[0m\n\u001b[0;31m    test_dataset_tdidf =\u001b[0m\n\u001b[0m                         ^\u001b[0m\n\u001b[0;31mSyntaxError\u001b[0m\u001b[0;31m:\u001b[0m invalid syntax\n"
     ]
    }
   ],
   "source": [
    "\n",
    "count_vec = CountVectorizer(min_df=1,tokenizer=nltk.word_tokenize,stop_words=stopwords.words('english'))\n",
    "tfidf_transformer = TfidfTransformer()\n",
    "\n",
    "airline_counts = count_vec.fit_transform(airline_dataset.data)\n",
    "\n",
    "airline_tfidf = tfidf_transformer.fit_transform(airline_counts)\n",
    "\n",
    "test_dataset_counts = count_vec.fit_transform(test_dataset.get(\"text\").values)\n",
    "test_dataset_tdidf = \n",
    "\n",
    "\n",
    "clf = MultinomialNB().fit(airline_tfidf,airline_dataset.target)\n",
    "\n"
   ]
  },
  {
   "cell_type": "code",
   "execution_count": null,
   "id": "08fb8f8c-7e87-435c-a381-d084868d8799",
   "metadata": {},
   "outputs": [],
   "source": []
  }
 ],
 "metadata": {
  "kernelspec": {
   "display_name": "Python 3 (ipykernel)",
   "language": "python",
   "name": "python3"
  },
  "language_info": {
   "codemirror_mode": {
    "name": "ipython",
    "version": 3
   },
   "file_extension": ".py",
   "mimetype": "text/x-python",
   "name": "python",
   "nbconvert_exporter": "python",
   "pygments_lexer": "ipython3",
   "version": "3.11.7"
  }
 },
 "nbformat": 4,
 "nbformat_minor": 5
}
