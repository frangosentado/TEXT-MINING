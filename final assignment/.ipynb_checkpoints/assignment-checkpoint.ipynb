{
 "cells": [
  {
   "cell_type": "markdown",
   "id": "9d4fd7df-c0c2-4f54-aa55-b207f80a701b",
   "metadata": {},
   "source": [
    "# Final Assignment"
   ]
  },
  {
   "cell_type": "markdown",
   "id": "24000cc3-29d9-4e1d-b62c-5583558c56be",
   "metadata": {
    "tags": []
   },
   "source": [
    "## Sentiment analysis"
   ]
  },
  {
   "cell_type": "code",
   "execution_count": 1,
   "id": "b9b8eae9-93a9-4811-a002-fb21fbc35618",
   "metadata": {
    "tags": []
   },
   "outputs": [],
   "source": [
    "import pandas as pd\n",
    "import nltk\n",
    "from nltk.corpus import stopwords\n",
    "from sklearn.model_selection import train_test_split\n",
    "from sklearn.feature_extraction.text import CountVectorizer,TfidfTransformer\n",
    "from sklearn.naive_bayes import MultinomialNB\n",
    "from sklearn.metrics import classification_report\n"
   ]
  },
  {
   "cell_type": "code",
   "execution_count": 60,
   "id": "f8aea5ad-4faa-4568-b5ff-02aa2872c666",
   "metadata": {
    "tags": []
   },
   "outputs": [],
   "source": [
    "#getting the datasets\n",
    "from sklearn.datasets import load_files\n",
    "import pathlib\n",
    "\n",
    "# cwd = pathlib.Path.cwd()\n",
    "# airline_tweets_folder = cwd.joinpath('airlinetweets')\n",
    "# airline_dataset = load_files(airline_tweets_folder)\n",
    "DATASET_COLUMNS  = [\"sentiment\", \"ids\", \"date\", \"flag\", \"user\", \"text\"]\n",
    "DATASET_ENCODING = \"ISO-8859-1\"\n",
    "train_dataset = pd.read_csv(\"./1milliontweets.csv\",encoding=DATASET_ENCODING , names=DATASET_COLUMNS)\n",
    "\n",
    "test_dataset = pd.read_csv(\"./sentiment-topic-test.tsv\", sep='\\t')"
   ]
  },
  {
   "cell_type": "markdown",
   "id": "f04f4f6a",
   "metadata": {},
   "source": [
    "#### Using Multinomial Nayve-Bayes"
   ]
  },
  {
   "cell_type": "code",
   "execution_count": 80,
   "id": "1fbb6a4e-57c7-4303-b440-2f63f84e3613",
   "metadata": {
    "tags": []
   },
   "outputs": [
    {
     "name": "stderr",
     "output_type": "stream",
     "text": [
      "/Users/bebulcao/anaconda3/lib/python3.11/site-packages/sklearn/feature_extraction/text.py:525: UserWarning: The parameter 'token_pattern' will not be used since 'tokenizer' is not None'\n",
      "  warnings.warn(\n",
      "/Users/bebulcao/anaconda3/lib/python3.11/site-packages/sklearn/feature_extraction/text.py:408: UserWarning: Your stop_words may be inconsistent with your preprocessing. Tokenizing the stop words generated tokens [\"'d\", \"'ll\", \"'re\", \"'s\", \"'ve\", 'could', 'might', 'must', \"n't\", 'need', 'sha', 'wo', 'would'] not in stop_words.\n",
      "  warnings.warn(\n"
     ]
    }
   ],
   "source": [
    "sentences = test_dataset.get(\"text\").values\n",
    "golden_labels = test_dataset.get(\"sentiment\").values\n",
    "\n",
    "count_vec = CountVectorizer(min_df=1,tokenizer=nltk.word_tokenize,stop_words=stopwords.words('english'))\n",
    "\n",
    "tfidf_transformer = TfidfTransformer()\n",
    "train_count_vec = count_vec.fit_transform(train_dataset.get(\"text\"))\n",
    "train_tfidf = tfidf_transformer.fit_transform(train_count_vec)\n",
    "\n",
    "sentences_counts = count_vec.transform(sentences)\n",
    "sentences_tfidf = tfidf_transformer.fit_transform(sentences_counts)\n",
    "\n",
    "clf = MultinomialNB().fit(train_tfidf,train_dataset.sentiment)\n",
    "\n",
    "pred = clf.predict(sentences_tfidf)\n"
   ]
  },
  {
   "cell_type": "code",
   "execution_count": 72,
   "id": "08fb8f8c-7e87-435c-a381-d084868d8799",
   "metadata": {},
   "outputs": [
    {
     "name": "stdout",
     "output_type": "stream",
     "text": [
      "I wouldn't be caught dead watching the NFL if it weren't for Taylor Swift.\n",
      "GOLDEN LABEL: negative\n",
      "0\n",
      "PREDICTED: negative\n",
      "Chris O'Donnell stated that while filming for this movie, he felt like he was in a Toys ''R'' Us commercial.\n",
      "GOLDEN LABEL: neutral\n",
      "4\n",
      "PREDICTED: positive\n",
      "The whole game was a rollercoaster ride, but Los Angeles Lakers ultimately persevered and won!\n",
      "GOLDEN LABEL: positive\n",
      "4\n",
      "PREDICTED: positive\n",
      "Zendaya slayed in Dune 2, as she does in all her movies.\n",
      "GOLDEN LABEL: positive\n",
      "4\n",
      "PREDICTED: positive\n",
      "While my favorite player was playing this match and started off strongggg, it went downhill after Messi's injyry midgame.\n",
      "GOLDEN LABEL: negative\n",
      "4\n",
      "PREDICTED: positive\n",
      "My uncle's brother's neighbor's cat's veterinarian David reads the communist manifesto in his spare time.\n",
      "GOLDEN LABEL: neutral\n",
      "4\n",
      "PREDICTED: positive\n",
      "He said that The Great Gatsby is the best novell ever, and I was about to throw hands.\n",
      "GOLDEN LABEL: negative\n",
      "4\n",
      "PREDICTED: positive\n",
      "I could not look away from this train wrck of a movie, on February 14th of all days.\n",
      "GOLDEN LABEL: negative\n",
      "0\n",
      "PREDICTED: negative\n",
      "The film Everything Everywhere All At Once follows Evelyn Wang, a woman drowning under the stress of her family's failing laundromat.\n",
      "GOLDEN LABEL: neutral\n",
      "0\n",
      "PREDICTED: negative\n",
      "I just finished reading pride and prejudice which had me HOOOKED from the beginning.\n",
      "GOLDEN LABEL: positive\n",
      "4\n",
      "PREDICTED: positive\n"
     ]
    }
   ],
   "source": [
    "def get_predicted_label(sentiment: float) -> str:\n",
    "    if sentiment > float(4/3):\n",
    "        if sentiment > float(2*4/3):\n",
    "            return \"positive\"\n",
    "        return \"neutral\"\n",
    "    return \"negative\"\n",
    "        \n",
    "\n",
    "predicted_tolabel = []\n",
    "for sentence,(golden,predicted) in zip(sentences,zip(golden_labels,pred)):\n",
    "    print(sentence)\n",
    "    print(\"GOLDEN LABEL:\", golden)\n",
    "    print(predicted)\n",
    "    predicted_label = get_predicted_label(predicted)\n",
    "    predicted_tolabel.append(predicted_label)\n",
    "    print(\"PREDICTED:\", predicted_label)"
   ]
  },
  {
   "cell_type": "code",
   "execution_count": 70,
   "id": "c68ee0ef",
   "metadata": {},
   "outputs": [
    {
     "name": "stdout",
     "output_type": "stream",
     "text": [
      "<class 'list'>\n"
     ]
    },
    {
     "name": "stderr",
     "output_type": "stream",
     "text": [
      "/Users/bebulcao/anaconda3/lib/python3.11/site-packages/sklearn/metrics/_classification.py:1469: UndefinedMetricWarning: Precision and F-score are ill-defined and being set to 0.0 in labels with no predicted samples. Use `zero_division` parameter to control this behavior.\n",
      "  _warn_prf(average, modifier, msg_start, len(result))\n",
      "/Users/bebulcao/anaconda3/lib/python3.11/site-packages/sklearn/metrics/_classification.py:1469: UndefinedMetricWarning: Precision and F-score are ill-defined and being set to 0.0 in labels with no predicted samples. Use `zero_division` parameter to control this behavior.\n",
      "  _warn_prf(average, modifier, msg_start, len(result))\n",
      "/Users/bebulcao/anaconda3/lib/python3.11/site-packages/sklearn/metrics/_classification.py:1469: UndefinedMetricWarning: Precision and F-score are ill-defined and being set to 0.0 in labels with no predicted samples. Use `zero_division` parameter to control this behavior.\n",
      "  _warn_prf(average, modifier, msg_start, len(result))\n"
     ]
    }
   ],
   "source": [
    "from sklearn.metrics import classification_report\n",
    "\n",
    "print(type(golden_labels.tolist()))\n",
    "results = classification_report(golden_labels,predicted_tolabel)\n"
   ]
  },
  {
   "cell_type": "code",
   "execution_count": 71,
   "id": "83f46633",
   "metadata": {},
   "outputs": [
    {
     "name": "stdout",
     "output_type": "stream",
     "text": [
      "              precision    recall  f1-score   support\n",
      "\n",
      "    negative       0.67      0.50      0.57         4\n",
      "     neutral       0.00      0.00      0.00         3\n",
      "    positive       0.43      1.00      0.60         3\n",
      "\n",
      "    accuracy                           0.50        10\n",
      "   macro avg       0.37      0.50      0.39        10\n",
      "weighted avg       0.40      0.50      0.41        10\n",
      "\n"
     ]
    }
   ],
   "source": [
    "print(results)"
   ]
  },
  {
   "cell_type": "markdown",
   "id": "a5ece522",
   "metadata": {},
   "source": [
    "#### Using a Support-Vector Machine"
   ]
  },
  {
   "cell_type": "code",
   "execution_count": 81,
   "id": "c44054ec",
   "metadata": {},
   "outputs": [
    {
     "name": "stderr",
     "output_type": "stream",
     "text": [
      "/Users/bebulcao/anaconda3/lib/python3.11/site-packages/sklearn/svm/_classes.py:32: FutureWarning: The default value of `dual` will change from `True` to `'auto'` in 1.5. Set the value of `dual` explicitly to suppress the warning.\n",
      "  warnings.warn(\n"
     ]
    },
    {
     "data": {
      "text/html": [
       "<style>#sk-container-id-4 {color: black;}#sk-container-id-4 pre{padding: 0;}#sk-container-id-4 div.sk-toggleable {background-color: white;}#sk-container-id-4 label.sk-toggleable__label {cursor: pointer;display: block;width: 100%;margin-bottom: 0;padding: 0.3em;box-sizing: border-box;text-align: center;}#sk-container-id-4 label.sk-toggleable__label-arrow:before {content: \"▸\";float: left;margin-right: 0.25em;color: #696969;}#sk-container-id-4 label.sk-toggleable__label-arrow:hover:before {color: black;}#sk-container-id-4 div.sk-estimator:hover label.sk-toggleable__label-arrow:before {color: black;}#sk-container-id-4 div.sk-toggleable__content {max-height: 0;max-width: 0;overflow: hidden;text-align: left;background-color: #f0f8ff;}#sk-container-id-4 div.sk-toggleable__content pre {margin: 0.2em;color: black;border-radius: 0.25em;background-color: #f0f8ff;}#sk-container-id-4 input.sk-toggleable__control:checked~div.sk-toggleable__content {max-height: 200px;max-width: 100%;overflow: auto;}#sk-container-id-4 input.sk-toggleable__control:checked~label.sk-toggleable__label-arrow:before {content: \"▾\";}#sk-container-id-4 div.sk-estimator input.sk-toggleable__control:checked~label.sk-toggleable__label {background-color: #d4ebff;}#sk-container-id-4 div.sk-label input.sk-toggleable__control:checked~label.sk-toggleable__label {background-color: #d4ebff;}#sk-container-id-4 input.sk-hidden--visually {border: 0;clip: rect(1px 1px 1px 1px);clip: rect(1px, 1px, 1px, 1px);height: 1px;margin: -1px;overflow: hidden;padding: 0;position: absolute;width: 1px;}#sk-container-id-4 div.sk-estimator {font-family: monospace;background-color: #f0f8ff;border: 1px dotted black;border-radius: 0.25em;box-sizing: border-box;margin-bottom: 0.5em;}#sk-container-id-4 div.sk-estimator:hover {background-color: #d4ebff;}#sk-container-id-4 div.sk-parallel-item::after {content: \"\";width: 100%;border-bottom: 1px solid gray;flex-grow: 1;}#sk-container-id-4 div.sk-label:hover label.sk-toggleable__label {background-color: #d4ebff;}#sk-container-id-4 div.sk-serial::before {content: \"\";position: absolute;border-left: 1px solid gray;box-sizing: border-box;top: 0;bottom: 0;left: 50%;z-index: 0;}#sk-container-id-4 div.sk-serial {display: flex;flex-direction: column;align-items: center;background-color: white;padding-right: 0.2em;padding-left: 0.2em;position: relative;}#sk-container-id-4 div.sk-item {position: relative;z-index: 1;}#sk-container-id-4 div.sk-parallel {display: flex;align-items: stretch;justify-content: center;background-color: white;position: relative;}#sk-container-id-4 div.sk-item::before, #sk-container-id-4 div.sk-parallel-item::before {content: \"\";position: absolute;border-left: 1px solid gray;box-sizing: border-box;top: 0;bottom: 0;left: 50%;z-index: -1;}#sk-container-id-4 div.sk-parallel-item {display: flex;flex-direction: column;z-index: 1;position: relative;background-color: white;}#sk-container-id-4 div.sk-parallel-item:first-child::after {align-self: flex-end;width: 50%;}#sk-container-id-4 div.sk-parallel-item:last-child::after {align-self: flex-start;width: 50%;}#sk-container-id-4 div.sk-parallel-item:only-child::after {width: 0;}#sk-container-id-4 div.sk-dashed-wrapped {border: 1px dashed gray;margin: 0 0.4em 0.5em 0.4em;box-sizing: border-box;padding-bottom: 0.4em;background-color: white;}#sk-container-id-4 div.sk-label label {font-family: monospace;font-weight: bold;display: inline-block;line-height: 1.2em;}#sk-container-id-4 div.sk-label-container {text-align: center;}#sk-container-id-4 div.sk-container {/* jupyter's `normalize.less` sets `[hidden] { display: none; }` but bootstrap.min.css set `[hidden] { display: none !important; }` so we also need the `!important` here to be able to override the default hidden behavior on the sphinx rendered scikit-learn.org. See: https://github.com/scikit-learn/scikit-learn/issues/21755 */display: inline-block !important;position: relative;}#sk-container-id-4 div.sk-text-repr-fallback {display: none;}</style><div id=\"sk-container-id-4\" class=\"sk-top-container\"><div class=\"sk-text-repr-fallback\"><pre>LinearSVC()</pre><b>In a Jupyter environment, please rerun this cell to show the HTML representation or trust the notebook. <br />On GitHub, the HTML representation is unable to render, please try loading this page with nbviewer.org.</b></div><div class=\"sk-container\" hidden><div class=\"sk-item\"><div class=\"sk-estimator sk-toggleable\"><input class=\"sk-toggleable__control sk-hidden--visually\" id=\"sk-estimator-id-4\" type=\"checkbox\" checked><label for=\"sk-estimator-id-4\" class=\"sk-toggleable__label sk-toggleable__label-arrow\">LinearSVC</label><div class=\"sk-toggleable__content\"><pre>LinearSVC()</pre></div></div></div></div></div>"
      ],
      "text/plain": [
       "LinearSVC()"
      ]
     },
     "execution_count": 81,
     "metadata": {},
     "output_type": "execute_result"
    }
   ],
   "source": [
    "from sklearn import svm\n",
    "\n",
    "lin_classifier = svm.LinearSVC()\n",
    "lin_classifier.fit(train_tfidf,train_dataset.sentiment)"
   ]
  },
  {
   "cell_type": "code",
   "execution_count": 86,
   "id": "8fa60555",
   "metadata": {},
   "outputs": [],
   "source": [
    "pred = lin_classifier.predict(sentences_tfidf)"
   ]
  },
  {
   "cell_type": "code",
   "execution_count": 87,
   "id": "9f3896c2",
   "metadata": {},
   "outputs": [],
   "source": [
    "pred_labels = [get_predicted_label(number) for number in pred]"
   ]
  },
  {
   "cell_type": "code",
   "execution_count": 88,
   "id": "24c6d767",
   "metadata": {},
   "outputs": [
    {
     "name": "stdout",
     "output_type": "stream",
     "text": [
      "['negative', 'positive', 'positive', 'positive', 'positive', 'positive', 'positive', 'positive', 'negative', 'positive']\n",
      "['negative' 'neutral' 'positive' 'positive' 'negative' 'neutral'\n",
      " 'negative' 'negative' 'neutral' 'positive']\n"
     ]
    },
    {
     "name": "stderr",
     "output_type": "stream",
     "text": [
      "/Users/bebulcao/anaconda3/lib/python3.11/site-packages/sklearn/metrics/_classification.py:1469: UndefinedMetricWarning: Precision and F-score are ill-defined and being set to 0.0 in labels with no predicted samples. Use `zero_division` parameter to control this behavior.\n",
      "  _warn_prf(average, modifier, msg_start, len(result))\n",
      "/Users/bebulcao/anaconda3/lib/python3.11/site-packages/sklearn/metrics/_classification.py:1469: UndefinedMetricWarning: Precision and F-score are ill-defined and being set to 0.0 in labels with no predicted samples. Use `zero_division` parameter to control this behavior.\n",
      "  _warn_prf(average, modifier, msg_start, len(result))\n",
      "/Users/bebulcao/anaconda3/lib/python3.11/site-packages/sklearn/metrics/_classification.py:1469: UndefinedMetricWarning: Precision and F-score are ill-defined and being set to 0.0 in labels with no predicted samples. Use `zero_division` parameter to control this behavior.\n",
      "  _warn_prf(average, modifier, msg_start, len(result))\n"
     ]
    }
   ],
   "source": [
    "print(pred_labels)\n",
    "print(golden_labels)\n",
    "results_svm = classification_report(golden_labels.tolist(),pred_labels)"
   ]
  },
  {
   "cell_type": "code",
   "execution_count": 89,
   "id": "94539de6",
   "metadata": {},
   "outputs": [
    {
     "name": "stdout",
     "output_type": "stream",
     "text": [
      "              precision    recall  f1-score   support\n",
      "\n",
      "    negative       0.50      0.25      0.33         4\n",
      "     neutral       0.00      0.00      0.00         3\n",
      "    positive       0.38      1.00      0.55         3\n",
      "\n",
      "    accuracy                           0.40        10\n",
      "   macro avg       0.29      0.42      0.29        10\n",
      "weighted avg       0.31      0.40      0.30        10\n",
      "\n"
     ]
    }
   ],
   "source": [
    "print(results_svm)"
   ]
  },
  {
   "cell_type": "markdown",
   "id": "5f0ff918",
   "metadata": {},
   "source": [
    "## Named Entity Recognition"
   ]
  },
  {
   "cell_type": "code",
   "execution_count": 74,
   "id": "427bafa9",
   "metadata": {},
   "outputs": [
    {
     "name": "stderr",
     "output_type": "stream",
     "text": [
      "/Users/bebulcao/anaconda3/lib/python3.11/site-packages/transformers/utils/generic.py:260: UserWarning: torch.utils._pytree._register_pytree_node is deprecated. Please use torch.utils._pytree.register_pytree_node instead.\n",
      "  torch.utils._pytree._register_pytree_node(\n"
     ]
    }
   ],
   "source": [
    "from simpletransformers.ner import NERModel"
   ]
  },
  {
   "cell_type": "code",
   "execution_count": 75,
   "id": "85f13d61",
   "metadata": {},
   "outputs": [
    {
     "data": {
      "application/vnd.jupyter.widget-view+json": {
       "model_id": "161d470d538b41d5bc9a2ae3049419fd",
       "version_major": 2,
       "version_minor": 0
      },
      "text/plain": [
       "Downloading config.json:   0%|          | 0.00/829 [00:00<?, ?B/s]"
      ]
     },
     "metadata": {},
     "output_type": "display_data"
    },
    {
     "data": {
      "application/vnd.jupyter.widget-view+json": {
       "model_id": "6a9737fee5a24f6a9e239a17dbe8f518",
       "version_major": 2,
       "version_minor": 0
      },
      "text/plain": [
       "Downloading model.safetensors:   0%|          | 0.00/433M [00:00<?, ?B/s]"
      ]
     },
     "metadata": {},
     "output_type": "display_data"
    },
    {
     "name": "stderr",
     "output_type": "stream",
     "text": [
      "Some weights of the model checkpoint at dslim/bert-base-NER were not used when initializing BertForTokenClassification: ['bert.pooler.dense.bias', 'bert.pooler.dense.weight']\n",
      "- This IS expected if you are initializing BertForTokenClassification from the checkpoint of a model trained on another task or with another architecture (e.g. initializing a BertForSequenceClassification model from a BertForPreTraining model).\n",
      "- This IS NOT expected if you are initializing BertForTokenClassification from the checkpoint of a model that you expect to be exactly identical (initializing a BertForSequenceClassification model from a BertForSequenceClassification model).\n"
     ]
    },
    {
     "data": {
      "application/vnd.jupyter.widget-view+json": {
       "model_id": "2ef171d533e14449984d9b4280143013",
       "version_major": 2,
       "version_minor": 0
      },
      "text/plain": [
       "Downloading vocab.txt:   0%|          | 0.00/213k [00:00<?, ?B/s]"
      ]
     },
     "metadata": {},
     "output_type": "display_data"
    },
    {
     "data": {
      "application/vnd.jupyter.widget-view+json": {
       "model_id": "745bf087d0e548df911434896ac148fe",
       "version_major": 2,
       "version_minor": 0
      },
      "text/plain": [
       "Downloading added_tokens.json:   0%|          | 0.00/2.00 [00:00<?, ?B/s]"
      ]
     },
     "metadata": {},
     "output_type": "display_data"
    },
    {
     "data": {
      "application/vnd.jupyter.widget-view+json": {
       "model_id": "55d107e1e187436abae762e8f8aeafa9",
       "version_major": 2,
       "version_minor": 0
      },
      "text/plain": [
       "Downloading (…)cial_tokens_map.json:   0%|          | 0.00/112 [00:00<?, ?B/s]"
      ]
     },
     "metadata": {},
     "output_type": "display_data"
    },
    {
     "data": {
      "application/vnd.jupyter.widget-view+json": {
       "model_id": "6e4499a3095e4da89f8a2e9718b84be0",
       "version_major": 2,
       "version_minor": 0
      },
      "text/plain": [
       "Downloading tokenizer_config.json:   0%|          | 0.00/59.0 [00:00<?, ?B/s]"
      ]
     },
     "metadata": {},
     "output_type": "display_data"
    }
   ],
   "source": [
    "englishmodel = NERModel(\n",
    "        model_type=\"bert\",\n",
    "        model_name=\"dslim/bert-base-NER\",\n",
    "        use_cuda=False\n",
    ")"
   ]
  },
  {
   "cell_type": "code",
   "execution_count": 76,
   "id": "b40978f9",
   "metadata": {},
   "outputs": [],
   "source": [
    "ner_test_dataset = pd.read_csv(\"./NER-test.tsv\", sep='\\t')"
   ]
  },
  {
   "cell_type": "code",
   "execution_count": 77,
   "id": "39697004",
   "metadata": {},
   "outputs": [],
   "source": [
    "tokens_ner = ner_test_dataset.get(\"token\")"
   ]
  },
  {
   "cell_type": "code",
   "execution_count": 78,
   "id": "5fb916ab",
   "metadata": {},
   "outputs": [
    {
     "data": {
      "application/vnd.jupyter.widget-view+json": {
       "model_id": "9ed38d88a1524df2bae717586f6a2235",
       "version_major": 2,
       "version_minor": 0
      },
      "text/plain": [
       "  0%|          | 0/1 [00:00<?, ?it/s]"
      ]
     },
     "metadata": {},
     "output_type": "display_data"
    },
    {
     "name": "stderr",
     "output_type": "stream",
     "text": [
      "/Users/bebulcao/anaconda3/lib/python3.11/site-packages/transformers/utils/generic.py:260: UserWarning: torch.utils._pytree._register_pytree_node is deprecated. Please use torch.utils._pytree.register_pytree_node instead.\n",
      "  torch.utils._pytree._register_pytree_node(\n"
     ]
    },
    {
     "data": {
      "application/vnd.jupyter.widget-view+json": {
       "model_id": "cec4e308cbb64949a19defcba0489b10",
       "version_major": 2,
       "version_minor": 0
      },
      "text/plain": [
       "Running Prediction:   0%|          | 0/2 [00:00<?, ?it/s]"
      ]
     },
     "metadata": {},
     "output_type": "display_data"
    }
   ],
   "source": [
    "predictions, raw_output = englishmodel.predict(tokens_ner)"
   ]
  },
  {
   "cell_type": "code",
   "execution_count": 79,
   "id": "d2a58448",
   "metadata": {},
   "outputs": [
    {
     "data": {
      "text/plain": [
       "[[{'I': 'O'}],\n",
       " [{'would': 'O'}],\n",
       " [{\"n't\": 'O'}],\n",
       " [{'be': 'O'}],\n",
       " [{'caught': 'O'}],\n",
       " [{'dead': 'O'}],\n",
       " [{'watching': 'O'}],\n",
       " [{'the': 'O'}],\n",
       " [{'NFL': 'B-ORG'}],\n",
       " [{'if': 'O'}],\n",
       " [{'it': 'O'}],\n",
       " [{'were': 'O'}],\n",
       " [{\"n't\": 'O'}],\n",
       " [{'for': 'O'}],\n",
       " [{'Taylor': 'B-PER'}],\n",
       " [{'Swift': 'B-PER'}],\n",
       " [{'.': 'O'}],\n",
       " [{'Chris': 'B-PER'}],\n",
       " [{\"O'Donnell\": 'B-PER'}],\n",
       " [{'stated': 'O'}],\n",
       " [{'that': 'O'}],\n",
       " [{'while': 'O'}],\n",
       " [{'filming': 'O'}],\n",
       " [{'for': 'O'}],\n",
       " [{'this': 'O'}],\n",
       " [{'movie': 'O'}],\n",
       " [{',': 'O'}],\n",
       " [{'he': 'O'}],\n",
       " [{'felt': 'O'}],\n",
       " [{'like': 'O'}],\n",
       " [{'he': 'O'}],\n",
       " [{'was': 'O'}],\n",
       " [{'in': 'O'}],\n",
       " [{'a': 'O'}],\n",
       " [{'Toys': 'O'}],\n",
       " [{\"''\": 'O'}],\n",
       " [{'R': 'O'}],\n",
       " [{\"''\": 'O'}],\n",
       " [{'Us': 'O'}],\n",
       " [{'commercial': 'O'}],\n",
       " [{'.': 'O'}],\n",
       " [{'The': 'O'}],\n",
       " [{'whole': 'O'}],\n",
       " [{'game': 'O'}],\n",
       " [{'was': 'O'}],\n",
       " [{'a': 'O'}],\n",
       " [{'rollercoaster': 'O'}],\n",
       " [{'ride': 'O'}],\n",
       " [{',': 'O'}],\n",
       " [{'but': 'O'}],\n",
       " [{'Los': 'B-ORG'}],\n",
       " [{'Angeles': 'B-LOC'}],\n",
       " [{'Lakers': 'B-ORG'}],\n",
       " [{'ultimately': 'O'}],\n",
       " [{'persevered': 'O'}],\n",
       " [{'and': 'O'}],\n",
       " [{'won': 'O'}],\n",
       " [{'!': 'O'}],\n",
       " [{'Zendaya': 'B-ORG'}],\n",
       " [{'slayed': 'O'}],\n",
       " [{'in': 'O'}],\n",
       " [{'Dune': 'B-MISC'}],\n",
       " [{'2': 'O'}],\n",
       " [{',': 'O'}],\n",
       " [{'as': 'O'}],\n",
       " [{'she': 'O'}],\n",
       " [{'does': 'O'}],\n",
       " [{'in': 'O'}],\n",
       " [{'all': 'O'}],\n",
       " [{'her': 'O'}],\n",
       " [{'movies': 'O'}],\n",
       " [{'.': 'O'}],\n",
       " [{'While': 'O'}],\n",
       " [{'my': 'O'}],\n",
       " [{'favorite': 'O'}],\n",
       " [{'player': 'O'}],\n",
       " [{'was': 'O'}],\n",
       " [{'playing': 'O'}],\n",
       " [{'this': 'O'}],\n",
       " [{'match': 'O'}],\n",
       " [{'and': 'O'}],\n",
       " [{'started': 'O'}],\n",
       " [{'off': 'O'}],\n",
       " [{'strongggg': 'O'}],\n",
       " [{',': 'O'}],\n",
       " [{'it': 'O'}],\n",
       " [{'went': 'O'}],\n",
       " [{'downhill': 'O'}],\n",
       " [{'after': 'O'}],\n",
       " [{'Messi': 'B-PER'}],\n",
       " [{\"'s\": 'O'}],\n",
       " [{'injyry': 'O'}],\n",
       " [{'midgame': 'O'}],\n",
       " [{'.': 'O'}],\n",
       " [{'My': 'O'}],\n",
       " [{'uncle': 'O'}],\n",
       " [{\"'s\": 'O'}],\n",
       " [{'brother': 'O'}],\n",
       " [{\"'s\": 'O'}],\n",
       " [{'neighbor': 'O'}],\n",
       " [{\"'s\": 'O'}],\n",
       " [{'cat': 'O'}],\n",
       " [{\"'s\": 'O'}],\n",
       " [{'veterinarian': 'O'}],\n",
       " [{'David': 'B-PER'}],\n",
       " [{'reads': 'O'}],\n",
       " [{'the': 'O'}],\n",
       " [{'communist': 'B-MISC'}],\n",
       " [{'manifesto': 'O'}],\n",
       " [{'in': 'O'}],\n",
       " [{'his': 'O'}],\n",
       " [{'spare': 'O'}],\n",
       " [{'time': 'O'}],\n",
       " [{'.': 'O'}],\n",
       " [{'He': 'O'}],\n",
       " [{'said': 'O'}],\n",
       " [{'that': 'O'}],\n",
       " [{'The': 'O'}],\n",
       " [{'Great': 'O'}],\n",
       " [{'Gatsby': 'B-PER'}],\n",
       " [{'is': 'O'}],\n",
       " [{'the': 'O'}],\n",
       " [{'best': 'O'}],\n",
       " [{'novell': 'O'}],\n",
       " [{'ever': 'O'}],\n",
       " [{',': 'O'}],\n",
       " [{'and': 'O'}],\n",
       " [{'I': 'O'}],\n",
       " [{'was': 'O'}],\n",
       " [{'about': 'O'}],\n",
       " [{'to': 'O'}],\n",
       " [{'throw': 'O'}],\n",
       " [{'hands': 'O'}],\n",
       " [{'.': 'O'}],\n",
       " [{'I': 'O'}],\n",
       " [{'could': 'O'}],\n",
       " [{'not': 'O'}],\n",
       " [{'look': 'O'}],\n",
       " [{'away': 'O'}],\n",
       " [{'from': 'O'}],\n",
       " [{'this': 'O'}],\n",
       " [{'train': 'O'}],\n",
       " [{'wrck': 'O'}],\n",
       " [{'of': 'O'}],\n",
       " [{'a': 'O'}],\n",
       " [{'movie': 'O'}],\n",
       " [{',': 'O'}],\n",
       " [{'on': 'O'}],\n",
       " [{'February': 'O'}],\n",
       " [{'14th': 'O'}],\n",
       " [{'of': 'O'}],\n",
       " [{'all': 'O'}],\n",
       " [{'days': 'O'}],\n",
       " [{'.': 'O'}],\n",
       " [{'The': 'O'}],\n",
       " [{'film': 'O'}],\n",
       " [{'Everything': 'O'}],\n",
       " [{'Everywhere': 'O'}],\n",
       " [{'All': 'O'}],\n",
       " [{'At': 'O'}],\n",
       " [{'Once': 'O'}],\n",
       " [{'follows': 'O'}],\n",
       " [{'Evelyn': 'B-PER'}],\n",
       " [{'Wang': 'B-PER'}],\n",
       " [{',': 'O'}],\n",
       " [{'a': 'O'}],\n",
       " [{'woman': 'O'}],\n",
       " [{'drowning': 'O'}],\n",
       " [{'under': 'O'}],\n",
       " [{'the': 'O'}],\n",
       " [{'stress': 'O'}],\n",
       " [{'of': 'O'}],\n",
       " [{'her': 'O'}],\n",
       " [{'family': 'O'}],\n",
       " [{\"'s\": 'O'}],\n",
       " [{'failing': 'O'}],\n",
       " [{'laundromat': 'O'}],\n",
       " [{'.': 'O'}],\n",
       " [{'I': 'O'}],\n",
       " [{'just': 'O'}],\n",
       " [{'finished': 'O'}],\n",
       " [{'reading': 'O'}],\n",
       " [{'pride': 'O'}],\n",
       " [{'and': 'O'}],\n",
       " [{'prejudice': 'O'}],\n",
       " [{'which': 'O'}],\n",
       " [{'had': 'O'}],\n",
       " [{'me': 'O'}],\n",
       " [{'HOOOKED': 'O'}],\n",
       " [{'from': 'O'}],\n",
       " [{'the': 'O'}],\n",
       " [{'beginning': 'O'}],\n",
       " [{'.': 'O'}]]"
      ]
     },
     "execution_count": 79,
     "metadata": {},
     "output_type": "execute_result"
    }
   ],
   "source": [
    "predictions"
   ]
  },
  {
   "cell_type": "markdown",
   "id": "ba3253da",
   "metadata": {},
   "source": [
    "## Topic analysis"
   ]
  },
  {
   "cell_type": "code",
   "execution_count": null,
   "id": "bf11a6d2",
   "metadata": {},
   "outputs": [],
   "source": []
  }
 ],
 "metadata": {
  "kernelspec": {
   "display_name": "Python 3 (ipykernel)",
   "language": "python",
   "name": "python3"
  },
  "language_info": {
   "codemirror_mode": {
    "name": "ipython",
    "version": 3
   },
   "file_extension": ".py",
   "mimetype": "text/x-python",
   "name": "python",
   "nbconvert_exporter": "python",
   "pygments_lexer": "ipython3",
   "version": "3.11.7"
  }
 },
 "nbformat": 4,
 "nbformat_minor": 5
}
