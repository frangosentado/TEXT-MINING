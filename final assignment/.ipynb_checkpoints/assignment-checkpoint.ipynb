{
 "cells": [
  {
   "cell_type": "markdown",
   "id": "9d4fd7df-c0c2-4f54-aa55-b207f80a701b",
   "metadata": {},
   "source": [
    "# Final Assignment"
   ]
  },
  {
   "cell_type": "markdown",
   "id": "24000cc3-29d9-4e1d-b62c-5583558c56be",
   "metadata": {
    "tags": []
   },
   "source": [
    "## Sentiment analysis"
   ]
  },
  {
   "cell_type": "code",
   "execution_count": 15,
   "id": "b9b8eae9-93a9-4811-a002-fb21fbc35618",
   "metadata": {
    "tags": []
   },
   "outputs": [],
   "source": [
    "import pandas as pd\n",
    "import nltk\n",
    "from nltk.corpus import stopwords\n",
    "from sklearn.model_selection import train_test_split\n",
    "from sklearn.feature_extraction.text import CountVectorizer,TfidfTransformer\n",
    "from sklearn.naive_bayes import MultinomialNB\n",
    "from sklearn.metrics import classification_report\n"
   ]
  },
  {
   "cell_type": "code",
   "execution_count": 16,
   "id": "f8aea5ad-4faa-4568-b5ff-02aa2872c666",
   "metadata": {
    "tags": []
   },
   "outputs": [],
   "source": [
    "#getting the datasets\n",
    "from sklearn.datasets import load_files\n",
    "import pathlib\n",
    "\n",
    "cwd = pathlib.Path.cwd()\n",
    "airline_tweets_folder = cwd.joinpath('airlinetweets')\n",
    "airline_dataset = load_files(airline_tweets_folder)\n",
    "# DATASET_COLUMNS  = [\"sentiment\", \"ids\", \"date\", \"flag\", \"user\", \"text\"]\n",
    "# DATASET_ENCODING = \"ISO-8859-1\"\n",
    "\n",
    "# you'll need to download the db at https://www.kaggle.com/datasets/kazanova/sentiment140\n",
    "# train_dataset = pd.read_csv(\"./1milliontweets.csv\",encoding=DATASET_ENCODING , names=DATASET_COLUMNS)\n",
    "\n",
    "test_dataset = pd.read_csv(\"./sentiment-topic-test.tsv\", sep='\\t')"
   ]
  },
  {
   "cell_type": "markdown",
   "id": "f04f4f6a",
   "metadata": {},
   "source": [
    "#### Using Multinomial Nayve-Bayes"
   ]
  },
  {
   "cell_type": "code",
   "execution_count": 17,
   "id": "1fbb6a4e-57c7-4303-b440-2f63f84e3613",
   "metadata": {
    "tags": []
   },
   "outputs": [
    {
     "name": "stderr",
     "output_type": "stream",
     "text": [
      "/Users/bebulcao/anaconda3/lib/python3.11/site-packages/sklearn/feature_extraction/text.py:525: UserWarning: The parameter 'token_pattern' will not be used since 'tokenizer' is not None'\n",
      "  warnings.warn(\n",
      "/Users/bebulcao/anaconda3/lib/python3.11/site-packages/sklearn/feature_extraction/text.py:408: UserWarning: Your stop_words may be inconsistent with your preprocessing. Tokenizing the stop words generated tokens [\"'d\", \"'ll\", \"'re\", \"'s\", \"'ve\", 'could', 'might', 'must', \"n't\", 'need', 'sha', 'wo', 'would'] not in stop_words.\n",
      "  warnings.warn(\n"
     ]
    }
   ],
   "source": [
    "sentences = test_dataset.get(\"text\").values\n",
    "golden_labels = test_dataset.get(\"sentiment\").values\n",
    "\n",
    "count_vec = CountVectorizer(min_df=1,tokenizer=nltk.word_tokenize,stop_words=stopwords.words('english'))\n",
    "\n",
    "tfidf_transformer = TfidfTransformer()\n",
    "train_count_vec = count_vec.fit_transform(airline_dataset.data)\n",
    "train_tfidf = tfidf_transformer.fit_transform(train_count_vec)\n",
    "\n",
    "sentences_counts = count_vec.transform(sentences)\n",
    "sentences_tfidf = tfidf_transformer.fit_transform(sentences_counts)\n",
    "\n",
    "clf = MultinomialNB().fit(train_tfidf,airline_dataset.target)\n",
    "\n",
    "pred = clf.predict(sentences_tfidf)\n"
   ]
  },
  {
   "cell_type": "code",
   "execution_count": 27,
   "id": "08fb8f8c-7e87-435c-a381-d084868d8799",
   "metadata": {},
   "outputs": [
    {
     "name": "stdout",
     "output_type": "stream",
     "text": [
      "I wouldn't be caught dead watching the NFL if it weren't for Taylor Swift.\n",
      "GOLDEN LABEL: negative\n",
      "PREDICTED: negative\n",
      "Chris O'Donnell stated that while filming for this movie, he felt like he was in a Toys ''R'' Us commercial.\n",
      "GOLDEN LABEL: neutral\n",
      "PREDICTED: negative\n",
      "The whole game was a rollercoaster ride, but Los Angeles Lakers ultimately persevered and won!\n",
      "GOLDEN LABEL: positive\n",
      "PREDICTED: positive\n",
      "Zendaya slayed in Dune 2, as she does in all her movies.\n",
      "GOLDEN LABEL: positive\n",
      "PREDICTED: negative\n",
      "While my favorite player was playing this match and started off strongggg, it went downhill after Messi's injyry midgame.\n",
      "GOLDEN LABEL: negative\n",
      "PREDICTED: positive\n",
      "My uncle's brother's neighbor's cat's veterinarian David reads the communist manifesto in his spare time.\n",
      "GOLDEN LABEL: neutral\n",
      "PREDICTED: neutral\n",
      "He said that The Great Gatsby is the best novell ever, and I was about to throw hands.\n",
      "GOLDEN LABEL: negative\n",
      "PREDICTED: positive\n",
      "I could not look away from this train wrck of a movie, on February 14th of all days.\n",
      "GOLDEN LABEL: negative\n",
      "PREDICTED: negative\n",
      "The film Everything Everywhere All At Once follows Evelyn Wang, a woman drowning under the stress of her family's failing laundromat.\n",
      "GOLDEN LABEL: neutral\n",
      "PREDICTED: positive\n",
      "I just finished reading pride and prejudice which had me HOOOKED from the beginning.\n",
      "GOLDEN LABEL: positive\n",
      "PREDICTED: negative\n"
     ]
    }
   ],
   "source": [
    "def get_predicted_label(sentiment: float) -> str:\n",
    "    if sentiment > 0:\n",
    "        if sentiment > 1:\n",
    "            return \"positive\"\n",
    "        return \"neutral\"\n",
    "    return \"negative\"\n",
    "        \n",
    "\n",
    "predicted_tolabel = []\n",
    "for sentence,(golden,predicted) in zip(sentences,zip(golden_labels,pred)):\n",
    "    print(sentence)\n",
    "    print(\"GOLDEN LABEL:\", golden)\n",
    "    predicted_label = get_predicted_label(predicted)\n",
    "    predicted_tolabel.append(predicted_label)\n",
    "    print(\"PREDICTED:\", predicted_label)"
   ]
  },
  {
   "cell_type": "code",
   "execution_count": 28,
   "id": "c68ee0ef",
   "metadata": {},
   "outputs": [],
   "source": [
    "from sklearn.metrics import classification_report\n",
    "\n",
    "results = classification_report(golden_labels,predicted_tolabel)\n"
   ]
  },
  {
   "cell_type": "code",
   "execution_count": 29,
   "id": "83f46633",
   "metadata": {},
   "outputs": [
    {
     "name": "stdout",
     "output_type": "stream",
     "text": [
      "              precision    recall  f1-score   support\n",
      "\n",
      "    negative       0.40      0.50      0.44         4\n",
      "     neutral       1.00      0.33      0.50         3\n",
      "    positive       0.25      0.33      0.29         3\n",
      "\n",
      "    accuracy                           0.40        10\n",
      "   macro avg       0.55      0.39      0.41        10\n",
      "weighted avg       0.53      0.40      0.41        10\n",
      "\n"
     ]
    }
   ],
   "source": [
    "print(results)"
   ]
  },
  {
   "cell_type": "markdown",
   "id": "a5ece522",
   "metadata": {},
   "source": [
    "#### Using a Support-Vector Machine"
   ]
  },
  {
   "cell_type": "code",
   "execution_count": 31,
   "id": "c44054ec",
   "metadata": {},
   "outputs": [
    {
     "name": "stderr",
     "output_type": "stream",
     "text": [
      "/Users/bebulcao/anaconda3/lib/python3.11/site-packages/sklearn/svm/_classes.py:32: FutureWarning: The default value of `dual` will change from `True` to `'auto'` in 1.5. Set the value of `dual` explicitly to suppress the warning.\n",
      "  warnings.warn(\n"
     ]
    },
    {
     "data": {
      "text/html": [
       "<style>#sk-container-id-1 {color: black;}#sk-container-id-1 pre{padding: 0;}#sk-container-id-1 div.sk-toggleable {background-color: white;}#sk-container-id-1 label.sk-toggleable__label {cursor: pointer;display: block;width: 100%;margin-bottom: 0;padding: 0.3em;box-sizing: border-box;text-align: center;}#sk-container-id-1 label.sk-toggleable__label-arrow:before {content: \"▸\";float: left;margin-right: 0.25em;color: #696969;}#sk-container-id-1 label.sk-toggleable__label-arrow:hover:before {color: black;}#sk-container-id-1 div.sk-estimator:hover label.sk-toggleable__label-arrow:before {color: black;}#sk-container-id-1 div.sk-toggleable__content {max-height: 0;max-width: 0;overflow: hidden;text-align: left;background-color: #f0f8ff;}#sk-container-id-1 div.sk-toggleable__content pre {margin: 0.2em;color: black;border-radius: 0.25em;background-color: #f0f8ff;}#sk-container-id-1 input.sk-toggleable__control:checked~div.sk-toggleable__content {max-height: 200px;max-width: 100%;overflow: auto;}#sk-container-id-1 input.sk-toggleable__control:checked~label.sk-toggleable__label-arrow:before {content: \"▾\";}#sk-container-id-1 div.sk-estimator input.sk-toggleable__control:checked~label.sk-toggleable__label {background-color: #d4ebff;}#sk-container-id-1 div.sk-label input.sk-toggleable__control:checked~label.sk-toggleable__label {background-color: #d4ebff;}#sk-container-id-1 input.sk-hidden--visually {border: 0;clip: rect(1px 1px 1px 1px);clip: rect(1px, 1px, 1px, 1px);height: 1px;margin: -1px;overflow: hidden;padding: 0;position: absolute;width: 1px;}#sk-container-id-1 div.sk-estimator {font-family: monospace;background-color: #f0f8ff;border: 1px dotted black;border-radius: 0.25em;box-sizing: border-box;margin-bottom: 0.5em;}#sk-container-id-1 div.sk-estimator:hover {background-color: #d4ebff;}#sk-container-id-1 div.sk-parallel-item::after {content: \"\";width: 100%;border-bottom: 1px solid gray;flex-grow: 1;}#sk-container-id-1 div.sk-label:hover label.sk-toggleable__label {background-color: #d4ebff;}#sk-container-id-1 div.sk-serial::before {content: \"\";position: absolute;border-left: 1px solid gray;box-sizing: border-box;top: 0;bottom: 0;left: 50%;z-index: 0;}#sk-container-id-1 div.sk-serial {display: flex;flex-direction: column;align-items: center;background-color: white;padding-right: 0.2em;padding-left: 0.2em;position: relative;}#sk-container-id-1 div.sk-item {position: relative;z-index: 1;}#sk-container-id-1 div.sk-parallel {display: flex;align-items: stretch;justify-content: center;background-color: white;position: relative;}#sk-container-id-1 div.sk-item::before, #sk-container-id-1 div.sk-parallel-item::before {content: \"\";position: absolute;border-left: 1px solid gray;box-sizing: border-box;top: 0;bottom: 0;left: 50%;z-index: -1;}#sk-container-id-1 div.sk-parallel-item {display: flex;flex-direction: column;z-index: 1;position: relative;background-color: white;}#sk-container-id-1 div.sk-parallel-item:first-child::after {align-self: flex-end;width: 50%;}#sk-container-id-1 div.sk-parallel-item:last-child::after {align-self: flex-start;width: 50%;}#sk-container-id-1 div.sk-parallel-item:only-child::after {width: 0;}#sk-container-id-1 div.sk-dashed-wrapped {border: 1px dashed gray;margin: 0 0.4em 0.5em 0.4em;box-sizing: border-box;padding-bottom: 0.4em;background-color: white;}#sk-container-id-1 div.sk-label label {font-family: monospace;font-weight: bold;display: inline-block;line-height: 1.2em;}#sk-container-id-1 div.sk-label-container {text-align: center;}#sk-container-id-1 div.sk-container {/* jupyter's `normalize.less` sets `[hidden] { display: none; }` but bootstrap.min.css set `[hidden] { display: none !important; }` so we also need the `!important` here to be able to override the default hidden behavior on the sphinx rendered scikit-learn.org. See: https://github.com/scikit-learn/scikit-learn/issues/21755 */display: inline-block !important;position: relative;}#sk-container-id-1 div.sk-text-repr-fallback {display: none;}</style><div id=\"sk-container-id-1\" class=\"sk-top-container\"><div class=\"sk-text-repr-fallback\"><pre>LinearSVC()</pre><b>In a Jupyter environment, please rerun this cell to show the HTML representation or trust the notebook. <br />On GitHub, the HTML representation is unable to render, please try loading this page with nbviewer.org.</b></div><div class=\"sk-container\" hidden><div class=\"sk-item\"><div class=\"sk-estimator sk-toggleable\"><input class=\"sk-toggleable__control sk-hidden--visually\" id=\"sk-estimator-id-1\" type=\"checkbox\" checked><label for=\"sk-estimator-id-1\" class=\"sk-toggleable__label sk-toggleable__label-arrow\">LinearSVC</label><div class=\"sk-toggleable__content\"><pre>LinearSVC()</pre></div></div></div></div></div>"
      ],
      "text/plain": [
       "LinearSVC()"
      ]
     },
     "execution_count": 31,
     "metadata": {},
     "output_type": "execute_result"
    }
   ],
   "source": [
    "from sklearn import svm\n",
    "\n",
    "lin_classifier = svm.LinearSVC()\n",
    "lin_classifier.fit(train_tfidf,airline_dataset.target)"
   ]
  },
  {
   "cell_type": "code",
   "execution_count": 32,
   "id": "8fa60555",
   "metadata": {},
   "outputs": [],
   "source": [
    "pred = lin_classifier.predict(sentences_tfidf)"
   ]
  },
  {
   "cell_type": "code",
   "execution_count": 33,
   "id": "9f3896c2",
   "metadata": {},
   "outputs": [],
   "source": [
    "pred_labels = [get_predicted_label(number) for number in pred]"
   ]
  },
  {
   "cell_type": "code",
   "execution_count": 38,
   "id": "24c6d767",
   "metadata": {},
   "outputs": [
    {
     "name": "stdout",
     "output_type": "stream",
     "text": [
      "['negative', 'negative', 'positive', 'negative', 'negative', 'negative', 'positive', 'negative', 'negative', 'negative']\n",
      "['negative' 'neutral' 'positive' 'positive' 'negative' 'neutral'\n",
      " 'negative' 'negative' 'neutral' 'positive']\n"
     ]
    },
    {
     "name": "stderr",
     "output_type": "stream",
     "text": [
      "/Users/bebulcao/anaconda3/lib/python3.11/site-packages/sklearn/metrics/_classification.py:1469: UndefinedMetricWarning: Precision and F-score are ill-defined and being set to 0.0 in labels with no predicted samples. Use `zero_division` parameter to control this behavior.\n",
      "  _warn_prf(average, modifier, msg_start, len(result))\n",
      "/Users/bebulcao/anaconda3/lib/python3.11/site-packages/sklearn/metrics/_classification.py:1469: UndefinedMetricWarning: Precision and F-score are ill-defined and being set to 0.0 in labels with no predicted samples. Use `zero_division` parameter to control this behavior.\n",
      "  _warn_prf(average, modifier, msg_start, len(result))\n",
      "/Users/bebulcao/anaconda3/lib/python3.11/site-packages/sklearn/metrics/_classification.py:1469: UndefinedMetricWarning: Precision and F-score are ill-defined and being set to 0.0 in labels with no predicted samples. Use `zero_division` parameter to control this behavior.\n",
      "  _warn_prf(average, modifier, msg_start, len(result))\n"
     ]
    }
   ],
   "source": [
    "print(pred_labels)\n",
    "print(golden_labels)\n",
    "results_svm = classification_report(golden_labels.tolist(),pred_labels)"
   ]
  },
  {
   "cell_type": "code",
   "execution_count": 39,
   "id": "94539de6",
   "metadata": {
    "scrolled": true
   },
   "outputs": [
    {
     "name": "stdout",
     "output_type": "stream",
     "text": [
      "              precision    recall  f1-score   support\n",
      "\n",
      "    negative       0.38      0.75      0.50         4\n",
      "     neutral       0.00      0.00      0.00         3\n",
      "    positive       0.50      0.33      0.40         3\n",
      "\n",
      "    accuracy                           0.40        10\n",
      "   macro avg       0.29      0.36      0.30        10\n",
      "weighted avg       0.30      0.40      0.32        10\n",
      "\n"
     ]
    }
   ],
   "source": [
    "print(results_svm)"
   ]
  },
  {
   "cell_type": "markdown",
   "id": "cd62dc07",
   "metadata": {},
   "source": [
    "### Using a transformer"
   ]
  },
  {
   "cell_type": "code",
   "execution_count": 35,
   "id": "94bb2e31",
   "metadata": {},
   "outputs": [],
   "source": [
    "from transformers import pipeline"
   ]
  },
  {
   "cell_type": "code",
   "execution_count": 56,
   "id": "773f4e2a",
   "metadata": {},
   "outputs": [
    {
     "name": "stdout",
     "output_type": "stream",
     "text": [
      "I wouldn't be caught dead watching the NFL if it weren't for Taylor Swift.\n",
      "GOLDEN LABEL:  negative\n",
      "TOP SENTIMENT:  negative\n",
      "PREDICTED SENTIMENTS:\n",
      "negative  -  39.02%\n",
      "neutral  -  38.83%\n",
      "positive  -  22.15%\n",
      "Chris O'Donnell stated that while filming for this movie, he felt like he was in a Toys ''R'' Us commercial.\n",
      "GOLDEN LABEL:  neutral\n",
      "TOP SENTIMENT:  positive\n",
      "PREDICTED SENTIMENTS:\n",
      "positive  -  40.77%\n",
      "negative  -  37.60%\n",
      "neutral  -  21.63%\n",
      "The whole game was a rollercoaster ride, but Los Angeles Lakers ultimately persevered and won!\n",
      "GOLDEN LABEL:  positive\n",
      "TOP SENTIMENT:  positive\n",
      "PREDICTED SENTIMENTS:\n",
      "positive  -  43.59%\n",
      "negative  -  43.17%\n",
      "neutral  -  13.24%\n",
      "Zendaya slayed in Dune 2, as she does in all her movies.\n",
      "GOLDEN LABEL:  positive\n",
      "TOP SENTIMENT:  positive\n",
      "PREDICTED SENTIMENTS:\n",
      "positive  -  42.89%\n",
      "negative  -  37.33%\n",
      "neutral  -  19.77%\n",
      "While my favorite player was playing this match and started off strongggg, it went downhill after Messi's injyry midgame.\n",
      "GOLDEN LABEL:  negative\n",
      "TOP SENTIMENT:  negative\n",
      "PREDICTED SENTIMENTS:\n",
      "negative  -  40.35%\n",
      "positive  -  39.99%\n",
      "neutral  -  19.67%\n",
      "My uncle's brother's neighbor's cat's veterinarian David reads the communist manifesto in his spare time.\n",
      "GOLDEN LABEL:  neutral\n",
      "TOP SENTIMENT:  negative\n",
      "PREDICTED SENTIMENTS:\n",
      "negative  -  64.63%\n",
      "positive  -  22.45%\n",
      "neutral  -  12.92%\n",
      "He said that The Great Gatsby is the best novell ever, and I was about to throw hands.\n",
      "GOLDEN LABEL:  negative\n",
      "TOP SENTIMENT:  positive\n",
      "PREDICTED SENTIMENTS:\n",
      "positive  -  84.50%\n",
      "negative  -  9.36%\n",
      "neutral  -  6.14%\n",
      "I could not look away from this train wrck of a movie, on February 14th of all days.\n",
      "GOLDEN LABEL:  negative\n",
      "TOP SENTIMENT:  negative\n",
      "PREDICTED SENTIMENTS:\n",
      "negative  -  42.20%\n",
      "neutral  -  35.98%\n",
      "positive  -  21.82%\n",
      "The film Everything Everywhere All At Once follows Evelyn Wang, a woman drowning under the stress of her family's failing laundromat.\n",
      "GOLDEN LABEL:  neutral\n",
      "TOP SENTIMENT:  negative\n",
      "PREDICTED SENTIMENTS:\n",
      "negative  -  57.15%\n",
      "positive  -  27.82%\n",
      "neutral  -  15.03%\n",
      "I just finished reading pride and prejudice which had me HOOOKED from the beginning.\n",
      "GOLDEN LABEL:  positive\n",
      "TOP SENTIMENT:  negative\n",
      "PREDICTED SENTIMENTS:\n",
      "negative  -  77.71%\n",
      "positive  -  13.03%\n",
      "neutral  -  9.26%\n"
     ]
    }
   ],
   "source": [
    "predicted_labels = []\n",
    "\n",
    "sentimentenglish = pipeline(\"sentiment-analysis\", \n",
    "                            model=\"lxyuan/distilbert-base-multilingual-cased-sentiments-student\", \n",
    "                            top_k=None)\n",
    "results = sentimentenglish(list(sentences))\n",
    "\n",
    "def get_top_sentiment(list: result) -> str:\n",
    "    top_sentiment = result[0][\"label\"]\n",
    "    top_score = result[0][\"score\"]\n",
    "    for sentiment in result[1:]:\n",
    "        if sentiment[\"score\"] > top_score:\n",
    "            top_score = sentiment[\"score\"]\n",
    "            top_sentiment = sentiment[\"label\"]\n",
    "    return top_sentiment\n",
    "\n",
    "i = 0\n",
    "for result in results:\n",
    "    top_sentiment = get_top_sentiment(result)\n",
    "    print(sentences[i])\n",
    "    print(\"GOLDEN LABEL: \",golden_labels[i])\n",
    "    print(\"TOP SENTIMENT: \", top_sentiment)\n",
    "    predicted_labels.append(top_sentiment)\n",
    "    print(\"PREDICTED SENTIMENTS:\")\n",
    "    for sentiment in result:\n",
    "        print(sentiment[\"label\"],\" - \", \"{:.2f}%\".format(sentiment[\"score\"]*100))\n",
    "    i += 1"
   ]
  },
  {
   "cell_type": "code",
   "execution_count": 58,
   "id": "230c9bcf",
   "metadata": {},
   "outputs": [
    {
     "name": "stdout",
     "output_type": "stream",
     "text": [
      "              precision    recall  f1-score   support\n",
      "\n",
      "    negative       0.50      0.75      0.60         4\n",
      "     neutral       0.00      0.00      0.00         3\n",
      "    positive       0.50      0.67      0.57         3\n",
      "\n",
      "    accuracy                           0.50        10\n",
      "   macro avg       0.33      0.47      0.39        10\n",
      "weighted avg       0.35      0.50      0.41        10\n",
      "\n"
     ]
    },
    {
     "name": "stderr",
     "output_type": "stream",
     "text": [
      "/Users/bebulcao/anaconda3/lib/python3.11/site-packages/sklearn/metrics/_classification.py:1469: UndefinedMetricWarning: Precision and F-score are ill-defined and being set to 0.0 in labels with no predicted samples. Use `zero_division` parameter to control this behavior.\n",
      "  _warn_prf(average, modifier, msg_start, len(result))\n",
      "/Users/bebulcao/anaconda3/lib/python3.11/site-packages/sklearn/metrics/_classification.py:1469: UndefinedMetricWarning: Precision and F-score are ill-defined and being set to 0.0 in labels with no predicted samples. Use `zero_division` parameter to control this behavior.\n",
      "  _warn_prf(average, modifier, msg_start, len(result))\n",
      "/Users/bebulcao/anaconda3/lib/python3.11/site-packages/sklearn/metrics/_classification.py:1469: UndefinedMetricWarning: Precision and F-score are ill-defined and being set to 0.0 in labels with no predicted samples. Use `zero_division` parameter to control this behavior.\n",
      "  _warn_prf(average, modifier, msg_start, len(result))\n"
     ]
    }
   ],
   "source": [
    "print(classification_report(golden_labels,predicted_labels))"
   ]
  },
  {
   "cell_type": "markdown",
   "id": "5f0ff918",
   "metadata": {},
   "source": [
    "## Named Entity Recognition"
   ]
  },
  {
   "cell_type": "code",
   "execution_count": 59,
   "id": "427bafa9",
   "metadata": {},
   "outputs": [
    {
     "name": "stderr",
     "output_type": "stream",
     "text": [
      "/Users/bebulcao/anaconda3/lib/python3.11/site-packages/transformers/utils/generic.py:260: UserWarning: torch.utils._pytree._register_pytree_node is deprecated. Please use torch.utils._pytree.register_pytree_node instead.\n",
      "  torch.utils._pytree._register_pytree_node(\n"
     ]
    }
   ],
   "source": [
    "from simpletransformers.ner import NERModel"
   ]
  },
  {
   "cell_type": "code",
   "execution_count": 60,
   "id": "85f13d61",
   "metadata": {},
   "outputs": [
    {
     "name": "stderr",
     "output_type": "stream",
     "text": [
      "Some weights of the model checkpoint at dslim/bert-base-NER were not used when initializing BertForTokenClassification: ['bert.pooler.dense.bias', 'bert.pooler.dense.weight']\n",
      "- This IS expected if you are initializing BertForTokenClassification from the checkpoint of a model trained on another task or with another architecture (e.g. initializing a BertForSequenceClassification model from a BertForPreTraining model).\n",
      "- This IS NOT expected if you are initializing BertForTokenClassification from the checkpoint of a model that you expect to be exactly identical (initializing a BertForSequenceClassification model from a BertForSequenceClassification model).\n"
     ]
    }
   ],
   "source": [
    "englishmodel = NERModel(\n",
    "        model_type=\"bert\",\n",
    "        model_name=\"dslim/bert-base-NER\",\n",
    "        use_cuda=False\n",
    ")"
   ]
  },
  {
   "cell_type": "code",
   "execution_count": 61,
   "id": "b40978f9",
   "metadata": {},
   "outputs": [],
   "source": [
    "ner_test_dataset = pd.read_csv(\"./NER-test.tsv\", sep='\\t')"
   ]
  },
  {
   "cell_type": "code",
   "execution_count": 62,
   "id": "39697004",
   "metadata": {},
   "outputs": [],
   "source": [
    "tokens_ner = ner_test_dataset.get(\"token\")"
   ]
  },
  {
   "cell_type": "code",
   "execution_count": 63,
   "id": "5fb916ab",
   "metadata": {},
   "outputs": [
    {
     "data": {
      "application/vnd.jupyter.widget-view+json": {
       "model_id": "736af8447a744837bf1a90803d6010a1",
       "version_major": 2,
       "version_minor": 0
      },
      "text/plain": [
       "  0%|          | 0/1 [00:00<?, ?it/s]"
      ]
     },
     "metadata": {},
     "output_type": "display_data"
    },
    {
     "name": "stderr",
     "output_type": "stream",
     "text": [
      "/Users/bebulcao/anaconda3/lib/python3.11/site-packages/transformers/utils/generic.py:260: UserWarning: torch.utils._pytree._register_pytree_node is deprecated. Please use torch.utils._pytree.register_pytree_node instead.\n",
      "  torch.utils._pytree._register_pytree_node(\n"
     ]
    },
    {
     "data": {
      "application/vnd.jupyter.widget-view+json": {
       "model_id": "3cf2abf056dd410faded1fcb9fd68b5f",
       "version_major": 2,
       "version_minor": 0
      },
      "text/plain": [
       "Running Prediction:   0%|          | 0/2 [00:00<?, ?it/s]"
      ]
     },
     "metadata": {},
     "output_type": "display_data"
    }
   ],
   "source": [
    "predictions, raw_output = englishmodel.predict(tokens_ner)"
   ]
  },
  {
   "cell_type": "code",
   "execution_count": 64,
   "id": "d2a58448",
   "metadata": {},
   "outputs": [
    {
     "data": {
      "text/plain": [
       "[[{'I': 'O'}],\n",
       " [{'would': 'O'}],\n",
       " [{\"n't\": 'O'}],\n",
       " [{'be': 'O'}],\n",
       " [{'caught': 'O'}],\n",
       " [{'dead': 'O'}],\n",
       " [{'watching': 'O'}],\n",
       " [{'the': 'O'}],\n",
       " [{'NFL': 'B-ORG'}],\n",
       " [{'if': 'O'}],\n",
       " [{'it': 'O'}],\n",
       " [{'were': 'O'}],\n",
       " [{\"n't\": 'O'}],\n",
       " [{'for': 'O'}],\n",
       " [{'Taylor': 'B-PER'}],\n",
       " [{'Swift': 'B-PER'}],\n",
       " [{'.': 'O'}],\n",
       " [{'Chris': 'B-PER'}],\n",
       " [{\"O'Donnell\": 'B-PER'}],\n",
       " [{'stated': 'O'}],\n",
       " [{'that': 'O'}],\n",
       " [{'while': 'O'}],\n",
       " [{'filming': 'O'}],\n",
       " [{'for': 'O'}],\n",
       " [{'this': 'O'}],\n",
       " [{'movie': 'O'}],\n",
       " [{',': 'O'}],\n",
       " [{'he': 'O'}],\n",
       " [{'felt': 'O'}],\n",
       " [{'like': 'O'}],\n",
       " [{'he': 'O'}],\n",
       " [{'was': 'O'}],\n",
       " [{'in': 'O'}],\n",
       " [{'a': 'O'}],\n",
       " [{'Toys': 'O'}],\n",
       " [{\"''\": 'O'}],\n",
       " [{'R': 'O'}],\n",
       " [{\"''\": 'O'}],\n",
       " [{'Us': 'O'}],\n",
       " [{'commercial': 'O'}],\n",
       " [{'.': 'O'}],\n",
       " [{'The': 'O'}],\n",
       " [{'whole': 'O'}],\n",
       " [{'game': 'O'}],\n",
       " [{'was': 'O'}],\n",
       " [{'a': 'O'}],\n",
       " [{'rollercoaster': 'O'}],\n",
       " [{'ride': 'O'}],\n",
       " [{',': 'O'}],\n",
       " [{'but': 'O'}],\n",
       " [{'Los': 'B-ORG'}],\n",
       " [{'Angeles': 'B-LOC'}],\n",
       " [{'Lakers': 'B-ORG'}],\n",
       " [{'ultimately': 'O'}],\n",
       " [{'persevered': 'O'}],\n",
       " [{'and': 'O'}],\n",
       " [{'won': 'O'}],\n",
       " [{'!': 'O'}],\n",
       " [{'Zendaya': 'B-ORG'}],\n",
       " [{'slayed': 'O'}],\n",
       " [{'in': 'O'}],\n",
       " [{'Dune': 'B-MISC'}],\n",
       " [{'2': 'O'}],\n",
       " [{',': 'O'}],\n",
       " [{'as': 'O'}],\n",
       " [{'she': 'O'}],\n",
       " [{'does': 'O'}],\n",
       " [{'in': 'O'}],\n",
       " [{'all': 'O'}],\n",
       " [{'her': 'O'}],\n",
       " [{'movies': 'O'}],\n",
       " [{'.': 'O'}],\n",
       " [{'While': 'O'}],\n",
       " [{'my': 'O'}],\n",
       " [{'favorite': 'O'}],\n",
       " [{'player': 'O'}],\n",
       " [{'was': 'O'}],\n",
       " [{'playing': 'O'}],\n",
       " [{'this': 'O'}],\n",
       " [{'match': 'O'}],\n",
       " [{'and': 'O'}],\n",
       " [{'started': 'O'}],\n",
       " [{'off': 'O'}],\n",
       " [{'strongggg': 'O'}],\n",
       " [{',': 'O'}],\n",
       " [{'it': 'O'}],\n",
       " [{'went': 'O'}],\n",
       " [{'downhill': 'O'}],\n",
       " [{'after': 'O'}],\n",
       " [{'Messi': 'B-PER'}],\n",
       " [{\"'s\": 'O'}],\n",
       " [{'injyry': 'O'}],\n",
       " [{'midgame': 'O'}],\n",
       " [{'.': 'O'}],\n",
       " [{'My': 'O'}],\n",
       " [{'uncle': 'O'}],\n",
       " [{\"'s\": 'O'}],\n",
       " [{'brother': 'O'}],\n",
       " [{\"'s\": 'O'}],\n",
       " [{'neighbor': 'O'}],\n",
       " [{\"'s\": 'O'}],\n",
       " [{'cat': 'O'}],\n",
       " [{\"'s\": 'O'}],\n",
       " [{'veterinarian': 'O'}],\n",
       " [{'David': 'B-PER'}],\n",
       " [{'reads': 'O'}],\n",
       " [{'the': 'O'}],\n",
       " [{'communist': 'B-MISC'}],\n",
       " [{'manifesto': 'O'}],\n",
       " [{'in': 'O'}],\n",
       " [{'his': 'O'}],\n",
       " [{'spare': 'O'}],\n",
       " [{'time': 'O'}],\n",
       " [{'.': 'O'}],\n",
       " [{'He': 'O'}],\n",
       " [{'said': 'O'}],\n",
       " [{'that': 'O'}],\n",
       " [{'The': 'O'}],\n",
       " [{'Great': 'O'}],\n",
       " [{'Gatsby': 'B-PER'}],\n",
       " [{'is': 'O'}],\n",
       " [{'the': 'O'}],\n",
       " [{'best': 'O'}],\n",
       " [{'novell': 'O'}],\n",
       " [{'ever': 'O'}],\n",
       " [{',': 'O'}],\n",
       " [{'and': 'O'}],\n",
       " [{'I': 'O'}],\n",
       " [{'was': 'O'}],\n",
       " [{'about': 'O'}],\n",
       " [{'to': 'O'}],\n",
       " [{'throw': 'O'}],\n",
       " [{'hands': 'O'}],\n",
       " [{'.': 'O'}],\n",
       " [{'I': 'O'}],\n",
       " [{'could': 'O'}],\n",
       " [{'not': 'O'}],\n",
       " [{'look': 'O'}],\n",
       " [{'away': 'O'}],\n",
       " [{'from': 'O'}],\n",
       " [{'this': 'O'}],\n",
       " [{'train': 'O'}],\n",
       " [{'wrck': 'O'}],\n",
       " [{'of': 'O'}],\n",
       " [{'a': 'O'}],\n",
       " [{'movie': 'O'}],\n",
       " [{',': 'O'}],\n",
       " [{'on': 'O'}],\n",
       " [{'February': 'O'}],\n",
       " [{'14th': 'O'}],\n",
       " [{'of': 'O'}],\n",
       " [{'all': 'O'}],\n",
       " [{'days': 'O'}],\n",
       " [{'.': 'O'}],\n",
       " [{'The': 'O'}],\n",
       " [{'film': 'O'}],\n",
       " [{'Everything': 'O'}],\n",
       " [{'Everywhere': 'O'}],\n",
       " [{'All': 'O'}],\n",
       " [{'At': 'O'}],\n",
       " [{'Once': 'O'}],\n",
       " [{'follows': 'O'}],\n",
       " [{'Evelyn': 'B-PER'}],\n",
       " [{'Wang': 'B-PER'}],\n",
       " [{',': 'O'}],\n",
       " [{'a': 'O'}],\n",
       " [{'woman': 'O'}],\n",
       " [{'drowning': 'O'}],\n",
       " [{'under': 'O'}],\n",
       " [{'the': 'O'}],\n",
       " [{'stress': 'O'}],\n",
       " [{'of': 'O'}],\n",
       " [{'her': 'O'}],\n",
       " [{'family': 'O'}],\n",
       " [{\"'s\": 'O'}],\n",
       " [{'failing': 'O'}],\n",
       " [{'laundromat': 'O'}],\n",
       " [{'.': 'O'}],\n",
       " [{'I': 'O'}],\n",
       " [{'just': 'O'}],\n",
       " [{'finished': 'O'}],\n",
       " [{'reading': 'O'}],\n",
       " [{'pride': 'O'}],\n",
       " [{'and': 'O'}],\n",
       " [{'prejudice': 'O'}],\n",
       " [{'which': 'O'}],\n",
       " [{'had': 'O'}],\n",
       " [{'me': 'O'}],\n",
       " [{'HOOOKED': 'O'}],\n",
       " [{'from': 'O'}],\n",
       " [{'the': 'O'}],\n",
       " [{'beginning': 'O'}],\n",
       " [{'.': 'O'}]]"
      ]
     },
     "execution_count": 64,
     "metadata": {},
     "output_type": "execute_result"
    }
   ],
   "source": [
    "predictions"
   ]
  },
  {
   "cell_type": "markdown",
   "id": "ba3253da",
   "metadata": {},
   "source": [
    "## Topic analysis"
   ]
  },
  {
   "cell_type": "code",
   "execution_count": 94,
   "id": "f960c438",
   "metadata": {},
   "outputs": [],
   "source": [
    "data = pd.read_csv('./abcnews-date-text.csv');\n",
    "data_text = data[['headline_text']]\n",
    "data_text['index'] = data_text.index\n",
    "documents = data_text"
   ]
  },
  {
   "cell_type": "code",
   "execution_count": 95,
   "id": "bf11a6d2",
   "metadata": {},
   "outputs": [
    {
     "name": "stderr",
     "output_type": "stream",
     "text": [
      "[nltk_data] Downloading package wordnet to\n",
      "[nltk_data]     /Users/bebulcao/nltk_data...\n",
      "[nltk_data]   Package wordnet is already up-to-date!\n"
     ]
    }
   ],
   "source": [
    "import gensim\n",
    "from gensim.utils import simple_preprocess\n",
    "from gensim.parsing.preprocessing import STOPWORDS\n",
    "from nltk.stem import WordNetLemmatizer, SnowballStemmer\n",
    "from nltk.stem.porter import *\n",
    "import numpy as np\n",
    "np.random.seed(2018)\n",
    "import nltk\n",
    "nltk.download('wordnet')\n",
    "\n",
    "lemmatizer = WordNetLemmatizer()"
   ]
  },
  {
   "cell_type": "code",
   "execution_count": 96,
   "id": "e66c9a05",
   "metadata": {},
   "outputs": [],
   "source": [
    "def lemmatize_stemming(text):\n",
    "    return lemmatizer.lemmatize(text)\n",
    "def preprocess(text):\n",
    "    result = []\n",
    "    for token in gensim.utils.simple_preprocess(text):\n",
    "        if token not in gensim.parsing.preprocessing.STOPWORDS and len(token) > 3:\n",
    "           # result.append(token)\n",
    "            result.append(lemmatize_stemming(token))\n",
    "    return result"
   ]
  },
  {
   "cell_type": "code",
   "execution_count": 97,
   "id": "30ce9ccc",
   "metadata": {},
   "outputs": [
    {
     "data": {
      "text/plain": [
       "0          [decides, community, broadcasting, licence]\n",
       "1                         [witness, aware, defamation]\n",
       "2           [call, infrastructure, protection, summit]\n",
       "3                          [staff, aust, strike, rise]\n",
       "4              [strike, affect, australian, traveller]\n",
       "5               [ambitious, olsson, win, triple, jump]\n",
       "6          [antic, delighted, record, breaking, barca]\n",
       "7    [aussie, qualifier, stosur, waste, memphis, ma...\n",
       "8             [aust, address, security, council, iraq]\n",
       "9                       [australia, locked, timetable]\n",
       "Name: headline_text, dtype: object"
      ]
     },
     "execution_count": 97,
     "metadata": {},
     "output_type": "execute_result"
    }
   ],
   "source": [
    "processed_docs = documents['headline_text'].map(preprocess)\n",
    "### print the first 10 results\n",
    "processed_docs[:10]"
   ]
  },
  {
   "cell_type": "code",
   "execution_count": 98,
   "id": "fed7094d",
   "metadata": {},
   "outputs": [],
   "source": [
    "dictionary = gensim.corpora.Dictionary(processed_docs)"
   ]
  },
  {
   "cell_type": "code",
   "execution_count": 99,
   "id": "34478e34",
   "metadata": {},
   "outputs": [],
   "source": [
    "dictionary.filter_extremes(no_below=15, no_above=0.5, keep_n=100000)"
   ]
  },
  {
   "cell_type": "code",
   "execution_count": 100,
   "id": "25b3123f",
   "metadata": {},
   "outputs": [],
   "source": [
    "bow_corpus = [dictionary.doc2bow(doc) for doc in processed_docs]"
   ]
  },
  {
   "cell_type": "code",
   "execution_count": 101,
   "id": "05cb07de",
   "metadata": {},
   "outputs": [],
   "source": [
    "lda_model = gensim.models.LdaMulticore(bow_corpus, num_topics=10, id2word=dictionary, passes=2, workers=2)"
   ]
  },
  {
   "cell_type": "code",
   "execution_count": 102,
   "id": "43f14f18",
   "metadata": {},
   "outputs": [],
   "source": [
    "# Save model to disk.\n",
    "temp_file = \"./model\"\n",
    "lda_model.save(temp_file)"
   ]
  },
  {
   "cell_type": "markdown",
   "id": "28fef95d",
   "metadata": {},
   "source": [
    "### Analysing the detected topics"
   ]
  },
  {
   "cell_type": "code",
   "execution_count": 103,
   "id": "261abd3c",
   "metadata": {},
   "outputs": [
    {
     "data": {
      "text/html": [
       "\n",
       "<link rel=\"stylesheet\" type=\"text/css\" href=\"https://cdn.jsdelivr.net/gh/bmabey/pyLDAvis@3.4.0/pyLDAvis/js/ldavis.v1.0.0.css\">\n",
       "\n",
       "\n",
       "<div id=\"ldavis_el39510111328096481912013669\" style=\"background-color:white;\"></div>\n",
       "<script type=\"text/javascript\">\n",
       "\n",
       "var ldavis_el39510111328096481912013669_data = {\"mdsDat\": {\"x\": [0.09599332635199709, 0.11413615772703828, 0.035472087369924805, -0.30586017475933924, -0.28873022677429483, 0.032071145939987646, 0.10906933591009682, -0.08134741400464324, 0.14190253141711864, 0.14729323082211473], \"y\": [0.25122935369561133, -0.12665281021590177, -0.22243751440059337, -0.01711661161198312, -0.04184404263454468, -0.11115784877344666, -0.08667230648218116, 0.25100809317926265, 0.16995694120037189, -0.06631325395659474], \"topics\": [1, 2, 3, 4, 5, 6, 7, 8, 9, 10], \"cluster\": [1, 1, 1, 1, 1, 1, 1, 1, 1, 1], \"Freq\": [13.261919945017075, 10.850559060491925, 10.839545277439209, 10.690321964031254, 9.870874090531519, 9.852508664796924, 9.175391350142895, 8.599604995729575, 8.494606398236911, 8.364668253582714]}, \"tinfo\": {\"Term\": [\"covid\", \"coronavirus\", \"trump\", \"queensland\", \"sydney\", \"police\", \"government\", \"victoria\", \"case\", \"election\", \"woman\", \"court\", \"donald\", \"south\", \"death\", \"health\", \"canberra\", \"child\", \"news\", \"restriction\", \"crash\", \"life\", \"national\", \"vaccine\", \"murder\", \"australia\", \"china\", \"tasmania\", \"people\", \"water\", \"government\", \"health\", \"tasmania\", \"federal\", \"plan\", \"council\", \"care\", \"regional\", \"service\", \"aged\", \"speaks\", \"budget\", \"public\", \"announces\", \"review\", \"funding\", \"emergency\", \"mental\", \"finance\", \"aboriginal\", \"action\", \"hong\", \"housing\", \"briefing\", \"told\", \"kong\", \"stop\", \"expert\", \"cut\", \"policy\", \"patient\", \"project\", \"call\", \"minister\", \"hospital\", \"labor\", \"say\", \"business\", \"christmas\", \"support\", \"worker\", \"change\", \"news\", \"market\", \"live\", \"gold\", \"rise\", \"million\", \"street\", \"price\", \"industry\", \"rate\", \"wall\", \"fall\", \"video\", \"farm\", \"michael\", \"story\", \"trade\", \"flight\", \"flood\", \"share\", \"tourism\", \"dollar\", \"george\", \"turn\", \"debate\", \"building\", \"disability\", \"scientist\", \"spring\", \"cattle\", \"number\", \"record\", \"china\", \"coast\", \"coronavirus\", \"high\", \"australian\", \"covid\", \"australia\", \"year\", \"business\", \"trump\", \"vaccine\", \"test\", \"final\", \"royal\", \"interview\", \"commission\", \"storm\", \"pandemic\", \"drum\", \"india\", \"beat\", \"black\", \"peter\", \"star\", \"hill\", \"alan\", \"lead\", \"outbreak\", \"break\", \"tuesday\", \"inquest\", \"thursday\", \"outback\", \"footage\", \"territory\", \"smith\", \"tour\", \"play\", \"point\", \"open\", \"world\", \"league\", \"australia\", \"season\", \"australian\", \"say\", \"court\", \"donald\", \"murder\", \"people\", \"charged\", \"face\", \"charge\", \"accused\", \"victim\", \"alleged\", \"shooting\", \"assault\", \"baby\", \"arrested\", \"food\", \"jailed\", \"guilty\", \"jail\", \"sentenced\", \"appeal\", \"mother\", \"arrest\", \"teen\", \"kid\", \"get\", \"rape\", \"result\", \"killing\", \"online\", \"challenge\", \"trial\", \"woman\", \"death\", \"police\", \"drug\", \"year\", \"family\", \"case\", \"crash\", \"house\", \"bushfire\", \"dy\", \"climate\", \"darwin\", \"week\", \"mark\", \"near\", \"close\", \"david\", \"station\", \"look\", \"white\", \"friday\", \"free\", \"girl\", \"find\", \"monday\", \"train\", \"testing\", \"bushfires\", \"rescue\", \"plane\", \"festival\", \"truck\", \"light\", \"month\", \"start\", \"owner\", \"adelaide\", \"road\", \"home\", \"woman\", \"police\", \"driver\", \"year\", \"sydney\", \"election\", \"lockdown\", \"andrew\", \"win\", \"president\", \"biden\", \"liberal\", \"travel\", \"medium\", \"right\", \"player\", \"social\", \"international\", \"kill\", \"security\", \"shot\", \"issue\", \"facebook\", \"wednesday\", \"russia\", \"rugby\", \"airport\", \"leave\", \"human\", \"global\", \"america\", \"paul\", \"military\", \"cause\", \"leader\", \"dead\", \"state\", \"say\", \"warning\", \"australia\", \"china\", \"australian\", \"queensland\", \"south\", \"north\", \"indigenous\", \"morrison\", \"student\", \"west\", \"killed\", \"city\", \"update\", \"centre\", \"program\", \"town\", \"bank\", \"east\", \"korea\", \"protester\", \"meet\", \"sport\", \"latest\", \"head\", \"extended\", \"hour\", \"great\", \"prince\", \"central\", \"refugee\", \"youth\", \"economy\", \"university\", \"victorian\", \"protest\", \"attack\", \"community\", \"school\", \"australia\", \"quarantine\", \"coronavirus\", \"australian\", \"coast\", \"covid\", \"canberra\", \"restriction\", \"life\", \"water\", \"missing\", \"country\", \"claim\", \"concern\", \"officer\", \"john\", \"party\", \"search\", \"river\", \"western\", \"crisis\", \"campaign\", \"investigation\", \"fatal\", \"crime\", \"continues\", \"hold\", \"day\", \"opposition\", \"killer\", \"authority\", \"inside\", \"left\", \"lake\", \"russian\", \"robert\", \"farmer\", \"amid\", \"police\", \"question\", \"long\", \"help\", \"national\", \"premier\", \"return\", \"tasmanian\", \"work\", \"rural\", \"show\", \"risk\", \"young\", \"park\", \"parliament\", \"weather\", \"sexual\", \"cricket\", \"law\", \"history\", \"turnbull\", \"indonesia\", \"study\", \"join\", \"union\", \"kohler\", \"tree\", \"money\", \"rollout\", \"data\", \"mount\", \"recovery\", \"politics\", \"response\", \"club\", \"change\", \"worker\", \"say\", \"australia\", \"australian\", \"victoria\", \"child\", \"scott\", \"deal\", \"beach\", \"abuse\", \"violence\", \"second\", \"zealand\", \"daniel\", \"body\", \"energy\", \"post\", \"domestic\", \"johnson\", \"coal\", \"allegation\", \"prime\", \"james\", \"pacific\", \"lawyer\", \"ship\", \"make\", \"research\", \"sign\", \"come\", \"target\", \"economic\", \"bos\", \"townsville\", \"island\", \"case\", \"covid\", \"coronavirus\", \"border\", \"australia\", \"minister\", \"say\"], \"Freq\": [35499.0, 43602.0, 24682.0, 21842.0, 21667.0, 33287.0, 21867.0, 17600.0, 19479.0, 16794.0, 22230.0, 15940.0, 13957.0, 12866.0, 17531.0, 15021.0, 11559.0, 11101.0, 12242.0, 11039.0, 11590.0, 10894.0, 10455.0, 11561.0, 11399.0, 43090.0, 14627.0, 11562.0, 10178.0, 9208.0, 21866.673593887757, 15021.091853109916, 11561.443956130064, 9823.053179202085, 10253.224840873185, 7941.067793557615, 7828.248868055475, 7142.172998570571, 6729.318434663534, 6653.528164158864, 6608.030654833958, 6618.2324696711285, 5825.545828522982, 5483.647103385866, 5486.851065258513, 5312.581874271598, 5053.279840919462, 5021.995178726208, 4888.260517737508, 4884.269288720705, 4390.885217277469, 4015.07424768264, 3930.580957777645, 3874.679431727704, 3785.0848869781994, 3773.2918614083546, 3628.054275496487, 3573.803370012253, 3461.716470932329, 3423.0010630730408, 3617.5418618831136, 3515.0762289210807, 7409.234442513, 6886.550900607186, 5994.147807834923, 5297.041512683714, 8698.11374627533, 5273.083368379243, 4171.246369705741, 4170.715155467693, 4277.410351630506, 4291.004780617145, 12241.454751335645, 10002.343786200192, 8414.507377022423, 6655.315870448078, 6345.322844238944, 6070.7093178529185, 6023.162571995385, 6009.042494911143, 5185.638531254163, 4764.6564802432185, 4548.662848702461, 4465.084806573894, 4402.9131469589765, 4302.392092497875, 4217.376004913552, 4092.766338857854, 4025.2378959628995, 3685.9933367096955, 3684.593097153449, 3635.4863604951283, 3341.772611465495, 3166.090301977014, 3050.693336696376, 2761.22777690103, 2751.9036482116285, 2726.8545393656, 2652.6114276120074, 2494.1242645377474, 2468.271851390876, 2397.920757502514, 3505.5059826701004, 10117.439725559178, 11152.217326134974, 7025.298047276423, 14101.165038332021, 4665.349762644538, 9038.102897951698, 8702.836770048316, 9352.951566081214, 4130.781449961012, 3673.0748050181146, 24681.851045579755, 11560.543958767033, 8885.25321990578, 7802.5571013536255, 7120.1518800429185, 6096.605384809024, 5808.71064166581, 5426.2193233393555, 5386.731530276576, 5295.301747857766, 5144.166336002262, 4681.457078757533, 4214.321070041794, 3892.851281230078, 3845.580822341014, 3672.867091316189, 3600.992367804274, 3562.782991260996, 3495.542882590209, 3419.3873663125314, 3351.6551439526525, 3280.925940707211, 3215.7451560256322, 3193.446414219711, 3191.9720609169026, 2817.252333728981, 2786.9661863565348, 2842.600590195699, 2594.369131321184, 2474.4092494545353, 8661.153789609707, 7829.749151347913, 3721.876844115057, 10533.81136105673, 3518.37576510541, 4999.696750308185, 3300.0468150609495, 15939.563623605172, 13957.122230750114, 11398.296417686293, 10177.528590455542, 9146.128100292759, 8738.816398536097, 6842.552499578367, 6213.502219391289, 6059.171707269599, 5726.319909880171, 5112.245963768414, 4985.290474146436, 4709.726599297581, 4666.502304707124, 4051.2123506187977, 4011.396911185137, 6038.101890570094, 3895.0614672746983, 3848.110732763413, 3786.246677026813, 3755.945897887022, 3602.9840248674736, 3575.8316477711187, 3303.2195748736785, 3220.808849121182, 3157.3386658521936, 3127.678657382691, 3025.34326845814, 2954.177395832136, 2927.6624287207355, 7956.310504642531, 18030.66717558255, 14190.33810970927, 21395.41557783079, 5146.951201095104, 9740.767203119845, 5926.601632683487, 3835.3328470105403, 11589.845959091623, 9350.751835590607, 8446.37167796222, 8410.762824747457, 6317.767814741247, 6128.152171193625, 4730.1369677835655, 4658.446559154567, 4590.150400564034, 4336.511278098709, 4249.8492943914625, 4237.005396390504, 4178.959221269782, 4005.7733408216554, 3948.721960756394, 3941.8680374538226, 3903.1527446754394, 3830.5492553755716, 3746.383180655928, 3710.3272256343316, 3694.6815068831993, 3578.753619770237, 3488.4235394002108, 3273.634435011916, 3225.486819789293, 3215.612825924536, 3189.3685446199543, 3157.78903805302, 3087.208496951455, 3057.447394031519, 7990.907593378024, 4439.623712091426, 5034.846287669802, 4198.618512689437, 4120.928302948713, 3377.4220470368155, 3560.4568381367067, 21666.88327378584, 16793.2613620825, 8924.435614822318, 6729.722877136788, 5995.339612170136, 5835.593556107357, 5241.243553282335, 5024.543231282968, 4809.1881718325985, 4760.826344548368, 4101.352677295148, 3999.734765540566, 3853.4599187942117, 3829.966606731246, 3497.8189087840487, 3401.5219078981463, 3395.7240121502373, 3341.8866668855, 3339.819216191436, 3264.456379599256, 3197.2224184326483, 3051.5463838723394, 3032.674766207364, 2768.2266575231656, 2598.850307721784, 2577.1792430870437, 2529.576771600808, 2519.244164087106, 2494.5862655657616, 2465.4726365410934, 4407.445592431828, 4930.736721251875, 6058.545270842081, 5408.327639711184, 3079.195504128204, 4901.142493826164, 3474.5047241594953, 3802.9797934018443, 21841.208509309574, 12865.793395552984, 8606.132629795557, 7722.40095666947, 7556.150910603333, 6499.247494454416, 6430.5761649795795, 5732.882284025644, 4858.816853482431, 4567.973858494987, 4502.801836712037, 4495.41574475186, 4253.5822870575785, 4060.6078949834878, 3681.988235085427, 3460.4797506362847, 3431.1300825641206, 3340.1682736622147, 3338.0864283593287, 3336.9146241968106, 3321.800874386214, 3065.278641190943, 3002.0776541018686, 2966.2108319254266, 2904.766950154918, 2903.895368228089, 2881.053479826903, 2818.1536764538564, 2712.2083983272178, 2648.5211425569587, 6721.852787599675, 5606.528864604588, 6302.140179145384, 5358.431843245302, 6001.394417411802, 8443.68091180657, 3818.405469209316, 7515.613938052826, 4911.179553456029, 3707.125177054556, 3390.9378007149576, 11558.28787099956, 11038.974662495633, 10893.896746862882, 9207.189015430804, 7520.318627462283, 7507.258794473844, 6976.265404822452, 6893.166388156671, 5781.003446651868, 5737.903970215469, 5667.951746957886, 5548.970518123733, 5134.069288853091, 4939.083301431576, 4816.802082367742, 4813.301136971151, 4519.854326918431, 4105.227946642888, 3937.4885060781553, 3291.6701901422684, 2949.84026965146, 2817.2139146409445, 2740.150762136389, 2734.1013808114703, 2697.2364708425885, 2672.011641102215, 2557.2421351888634, 2552.8362156830003, 2466.7354875330384, 2377.0078790780767, 6565.935680312918, 4521.471880840408, 7597.364207654037, 3175.6251145483834, 2905.8437041179413, 2776.305795725306, 10454.213079953237, 7143.547461594269, 6959.7826353488945, 6677.38077939983, 6093.569875085255, 6008.337486911998, 5485.317464220272, 5313.995926636422, 5309.689866911111, 5297.138871122606, 4995.916307410832, 4816.634679058279, 4595.570696711643, 4356.490694559232, 3941.9054895601357, 3697.026882846359, 3335.8989058139045, 3185.1941590957626, 3180.88876697661, 3116.5166233816963, 3097.6943578712803, 2998.158952813014, 2992.7980753565416, 2992.4453567692226, 2990.999544364295, 2820.00068309061, 2805.0420769574994, 2696.8144397095352, 2633.016437411329, 2541.981884110525, 3663.8208201056996, 8072.81384328887, 5069.2710918745925, 4952.541045121462, 5253.232639401475, 3082.6870164885654, 17599.843985272113, 11100.561139948884, 7229.325556300211, 4723.468134149204, 4635.042055092272, 4538.874064967807, 4254.235571844093, 4245.185446537297, 3735.4683648513014, 3718.247269267513, 3611.769805891018, 3040.426191755737, 2985.058051044032, 2960.2484363470635, 2944.583611705862, 2898.6747145563477, 2705.7251664900073, 2700.845549290692, 2695.221104587313, 2629.6396892920943, 2619.166305780271, 2565.730684562044, 2442.1899001833804, 2342.7662753934655, 2331.500074609003, 2227.2084465820312, 2171.717373175481, 2151.015375884708, 2100.6283101935546, 1936.0738041914906, 7270.392526844908, 15642.986886054041, 23318.928894909634, 21081.510022451814, 4967.709322174651, 4604.989941658262, 3226.7923762726323, 4004.0147271752603], \"Total\": [35499.0, 43602.0, 24682.0, 21842.0, 21667.0, 33287.0, 21867.0, 17600.0, 19479.0, 16794.0, 22230.0, 15940.0, 13957.0, 12866.0, 17531.0, 15021.0, 11559.0, 11101.0, 12242.0, 11039.0, 11590.0, 10894.0, 10455.0, 11561.0, 11399.0, 43090.0, 14627.0, 11562.0, 10178.0, 9208.0, 21867.489105049393, 15021.907367045464, 11562.259497221085, 9823.868698524895, 10254.094704380568, 7941.885816106969, 7829.064381637612, 7142.98855548391, 6730.133925894849, 6654.3437117955, 6608.846175639163, 6619.052374795241, 5826.361325154883, 5484.462656326977, 5487.66843477577, 5313.397350942481, 5054.095385499028, 5022.810656341508, 4889.076089023603, 4885.084818891307, 4391.700723915241, 4015.8897901426826, 3931.3975945883753, 3875.4953639120554, 3785.9004380099145, 3774.107407069915, 3628.8698090126622, 3574.6190989274587, 3462.5320031265783, 3423.8165683091606, 3618.4224472569827, 3515.9364806096796, 10687.569731984056, 10114.078449312456, 9569.305398262213, 7816.634256467607, 31467.802995577294, 8979.52958056895, 5091.287698558177, 5619.120537827243, 9347.400870688003, 12364.538044193758, 12242.290681342854, 10003.179671790444, 8415.343297803789, 6656.15177522854, 6346.158751902842, 6071.545257474302, 6023.998493286737, 6009.878381343789, 5186.474449307736, 4765.4923826950335, 4549.498733000921, 4465.920707078549, 4403.749127257437, 4303.228095622834, 4218.211957385364, 4093.602251237816, 4026.073800391333, 3686.8292892294076, 3685.429246423447, 3636.3222358319517, 3342.6085540721174, 3166.9261769398236, 3051.5293369008086, 2762.063714830729, 2752.7395864563887, 2727.6904713893, 2653.447420119992, 2494.960205832295, 2469.107755723775, 2398.756641675446, 3507.4539692272706, 12174.930144623957, 14627.467692108612, 10733.17507727614, 43602.812026903004, 6924.589358321306, 29846.27116848777, 35499.99084444967, 43090.204257386875, 19592.587464512675, 8979.52958056895, 24682.68159041354, 11561.37476850723, 8886.083626052727, 7803.387457291532, 7120.982272834759, 6097.435731371052, 5809.54103447291, 5427.0497361413645, 5387.565019668875, 5296.132101002745, 5144.996744630329, 4682.287448721535, 4215.15151711748, 3893.6817098147535, 3846.411211988872, 3673.697488818571, 3601.8228446122625, 3563.6133808869977, 3496.3734155717602, 3420.21776807611, 3352.4855017183345, 3281.7563656741563, 3216.5755151377375, 3194.276844449745, 3192.8025313876847, 2818.0827346172273, 2787.7965629170135, 2843.4533515801354, 2595.199505667808, 2475.2396529170674, 10284.948585601256, 12721.097315871206, 4566.04570471874, 43090.204257386875, 4776.99197714421, 29846.27116848777, 31467.802995577294, 15940.39170312263, 13957.950481639891, 11399.124470745712, 10178.35674319547, 9146.956158344898, 8739.644510575374, 6843.380565747764, 6214.33028779486, 6059.999812620415, 5727.147982067866, 5113.074331869366, 4986.118549350863, 4710.554694756923, 4667.334669382908, 4052.0404593813396, 4012.226813923782, 6039.378860013254, 3895.889536020041, 3848.93880601364, 3787.074756718229, 3756.773982726586, 3603.8127544954773, 3576.6597266809304, 3304.0477002761195, 3221.636956559399, 3158.1667594267738, 3128.5068097611556, 3026.171362289163, 2955.0055294055064, 2928.490536288653, 8636.331681883972, 22230.495653716294, 17531.7586351421, 33287.125552660706, 5887.544596609956, 19592.587464512675, 12073.744408330089, 19479.06710595003, 11590.78258138714, 9351.576874950062, 8447.196827377182, 8411.58784034683, 6318.59289622398, 6128.977209428526, 4730.96199801287, 4659.271613692817, 4590.97541321214, 4337.336313978761, 4250.674328375085, 4237.830411258825, 4179.784268637268, 4006.5983713157025, 3949.5469733162104, 3942.6930779567465, 3903.977772093392, 3831.3743072803604, 3747.2081940670973, 3711.1522806046937, 3695.5066234980327, 3579.5787205559795, 3489.2504792038335, 3274.4594478755284, 3226.3118225442013, 3216.4378292994684, 3190.193560476122, 3158.614083768303, 3088.033514167565, 3058.2724288159966, 10738.295722562547, 5774.593117156648, 13826.17504887818, 22230.495653716294, 33287.125552660706, 5759.315418328653, 19592.587464512675, 21667.712648035795, 16794.090950671125, 8925.26549464777, 6730.552290284297, 5996.171802491371, 5836.422888855225, 5242.073172037301, 5025.372572030245, 4810.0176177096655, 4761.655678074875, 4102.182014190567, 4000.564119620375, 3854.2892560321793, 3830.797921814796, 3498.648242881397, 3402.351253759438, 3396.5533484888206, 3342.71620058249, 3340.648591604444, 3265.285688743148, 3198.0517503033657, 3052.3757111997397, 3033.504103482203, 2769.057313288905, 2599.6796348597495, 2578.009456535464, 2530.4061128750936, 2520.0735240425824, 2495.415603284012, 2466.301982385967, 5399.092147921878, 7123.073532522412, 11772.570647838904, 31467.802995577294, 5063.262709951953, 43090.204257386875, 14627.467692108612, 29846.27116848777, 21842.04414515679, 12866.628973916972, 8606.968190229958, 7723.236560846546, 7556.98666824075, 6500.083072539448, 6431.411744489561, 5733.717882779932, 4859.652457489553, 4568.809550027042, 4503.6374139531445, 4496.251323317194, 4254.417891556847, 4061.443477142148, 3682.823811025644, 3461.3152929101298, 3431.968214841128, 3341.0038603572743, 3338.9220344481555, 3337.750291355515, 3322.6364653831433, 3066.1142339723633, 3002.9132072797684, 2967.046442620269, 2905.6025946976333, 2904.7309466329725, 2881.889052658116, 2818.989262233571, 2713.0440210004313, 2649.356730088417, 8320.854361011012, 7055.203591466278, 9180.102761938082, 7900.917494947581, 11294.486838867173, 43090.204257386875, 5847.151828813707, 43602.812026903004, 29846.27116848777, 10733.17507727614, 35499.99084444967, 11559.10269792792, 11039.78983305592, 10894.711580643832, 9208.00381770706, 7521.133432117232, 7508.07358979686, 6977.080222730706, 6893.9812123397405, 5781.818281215194, 5738.718791224866, 5668.766576703645, 5549.785312880599, 5134.884090287642, 4939.898142174228, 4817.616919597456, 4814.115953617672, 4520.669146489458, 4106.042777661136, 3938.3033640849467, 3292.4850235181807, 2950.655080221263, 2818.0287533783376, 2740.965578463178, 2734.916228441253, 2698.051306828333, 2672.8264869461186, 2558.0569791194384, 2553.651022303519, 2467.5503071163857, 2377.8227059503706, 9333.896783700102, 6598.220211341057, 33287.125552660706, 4572.783072672934, 4039.8391151626265, 8908.30511218027, 10455.037394978626, 7144.371065735476, 6960.606209439893, 6678.2045602665385, 6094.39343267142, 6009.160999567862, 5486.141042958608, 5314.819504435807, 5310.513435709427, 5297.962422333172, 4996.739868760858, 4817.458446779251, 4596.394314258764, 4357.314265685195, 3942.7290324235273, 3697.850445418654, 3336.7224342222685, 3186.017723361956, 3181.7123135854526, 3117.340256669913, 3098.5179096330066, 2998.982634583844, 2993.62163908675, 2993.268921240232, 2991.8235247008524, 2820.8242534427677, 2805.8657007023708, 2697.638056446183, 2633.8400087471614, 2542.805483566994, 3665.143411376462, 12364.538044193758, 9347.400870688003, 31467.802995577294, 43090.204257386875, 29846.27116848777, 17600.68293757779, 11101.400033476935, 7230.164511564948, 4724.307023045418, 4635.880973028641, 4539.71304625793, 4255.0744478367615, 4246.024347373482, 3736.307270706652, 3719.086216510009, 3612.6086965943728, 3041.2663893823537, 2985.8969567511795, 2961.0873030676626, 2945.422497649229, 2899.5136011555087, 2706.564096065192, 2701.6844270899915, 2696.0599946205666, 2630.4785616132026, 2620.0052050274144, 2566.569587039869, 2443.028796336819, 2343.6055294534785, 2332.3389553774114, 2228.047338971561, 2172.556268858491, 2151.8542747841066, 2101.4672113839083, 1936.912719259746, 7273.727195280325, 19479.06710595003, 35499.99084444967, 43602.812026903004, 9098.852539743624, 43090.204257386875, 10114.078449312456, 31467.802995577294], \"Category\": [\"Default\", \"Default\", \"Default\", \"Default\", \"Default\", \"Default\", \"Default\", \"Default\", \"Default\", \"Default\", \"Default\", \"Default\", \"Default\", \"Default\", \"Default\", \"Default\", \"Default\", \"Default\", \"Default\", \"Default\", \"Default\", \"Default\", \"Default\", \"Default\", \"Default\", \"Default\", \"Default\", \"Default\", \"Default\", \"Default\", \"Topic1\", \"Topic1\", \"Topic1\", \"Topic1\", \"Topic1\", \"Topic1\", \"Topic1\", \"Topic1\", \"Topic1\", \"Topic1\", \"Topic1\", \"Topic1\", \"Topic1\", \"Topic1\", \"Topic1\", \"Topic1\", \"Topic1\", \"Topic1\", \"Topic1\", \"Topic1\", \"Topic1\", \"Topic1\", \"Topic1\", \"Topic1\", \"Topic1\", \"Topic1\", \"Topic1\", \"Topic1\", \"Topic1\", \"Topic1\", \"Topic1\", \"Topic1\", \"Topic1\", \"Topic1\", \"Topic1\", \"Topic1\", \"Topic1\", \"Topic1\", \"Topic1\", \"Topic1\", \"Topic1\", \"Topic1\", \"Topic2\", \"Topic2\", \"Topic2\", \"Topic2\", \"Topic2\", \"Topic2\", \"Topic2\", \"Topic2\", \"Topic2\", \"Topic2\", \"Topic2\", \"Topic2\", \"Topic2\", \"Topic2\", \"Topic2\", \"Topic2\", \"Topic2\", \"Topic2\", \"Topic2\", \"Topic2\", \"Topic2\", \"Topic2\", \"Topic2\", \"Topic2\", \"Topic2\", \"Topic2\", \"Topic2\", \"Topic2\", \"Topic2\", \"Topic2\", \"Topic2\", \"Topic2\", \"Topic2\", \"Topic2\", \"Topic2\", \"Topic2\", \"Topic2\", \"Topic2\", \"Topic2\", \"Topic2\", \"Topic2\", \"Topic3\", \"Topic3\", \"Topic3\", \"Topic3\", \"Topic3\", \"Topic3\", \"Topic3\", \"Topic3\", \"Topic3\", \"Topic3\", \"Topic3\", \"Topic3\", \"Topic3\", \"Topic3\", \"Topic3\", \"Topic3\", \"Topic3\", \"Topic3\", \"Topic3\", \"Topic3\", \"Topic3\", \"Topic3\", \"Topic3\", \"Topic3\", \"Topic3\", \"Topic3\", \"Topic3\", \"Topic3\", \"Topic3\", \"Topic3\", \"Topic3\", \"Topic3\", \"Topic3\", \"Topic3\", \"Topic3\", \"Topic3\", \"Topic3\", \"Topic4\", \"Topic4\", \"Topic4\", \"Topic4\", \"Topic4\", \"Topic4\", \"Topic4\", \"Topic4\", \"Topic4\", \"Topic4\", \"Topic4\", \"Topic4\", \"Topic4\", \"Topic4\", \"Topic4\", \"Topic4\", \"Topic4\", \"Topic4\", \"Topic4\", \"Topic4\", \"Topic4\", \"Topic4\", \"Topic4\", \"Topic4\", \"Topic4\", \"Topic4\", \"Topic4\", \"Topic4\", \"Topic4\", \"Topic4\", \"Topic4\", \"Topic4\", \"Topic4\", \"Topic4\", \"Topic4\", \"Topic4\", \"Topic4\", \"Topic4\", \"Topic5\", \"Topic5\", \"Topic5\", \"Topic5\", \"Topic5\", \"Topic5\", \"Topic5\", \"Topic5\", \"Topic5\", \"Topic5\", \"Topic5\", \"Topic5\", \"Topic5\", \"Topic5\", \"Topic5\", \"Topic5\", \"Topic5\", \"Topic5\", \"Topic5\", \"Topic5\", \"Topic5\", \"Topic5\", \"Topic5\", \"Topic5\", \"Topic5\", \"Topic5\", \"Topic5\", \"Topic5\", \"Topic5\", \"Topic5\", \"Topic5\", \"Topic5\", \"Topic5\", \"Topic5\", \"Topic5\", \"Topic5\", \"Topic5\", \"Topic6\", \"Topic6\", \"Topic6\", \"Topic6\", \"Topic6\", \"Topic6\", \"Topic6\", \"Topic6\", \"Topic6\", \"Topic6\", \"Topic6\", \"Topic6\", \"Topic6\", \"Topic6\", \"Topic6\", \"Topic6\", \"Topic6\", \"Topic6\", \"Topic6\", \"Topic6\", \"Topic6\", \"Topic6\", \"Topic6\", \"Topic6\", \"Topic6\", \"Topic6\", \"Topic6\", \"Topic6\", \"Topic6\", \"Topic6\", \"Topic6\", \"Topic6\", \"Topic6\", \"Topic6\", \"Topic6\", \"Topic6\", \"Topic6\", \"Topic6\", \"Topic7\", \"Topic7\", \"Topic7\", \"Topic7\", \"Topic7\", \"Topic7\", \"Topic7\", \"Topic7\", \"Topic7\", \"Topic7\", \"Topic7\", \"Topic7\", \"Topic7\", \"Topic7\", \"Topic7\", \"Topic7\", \"Topic7\", \"Topic7\", \"Topic7\", \"Topic7\", \"Topic7\", \"Topic7\", \"Topic7\", \"Topic7\", \"Topic7\", \"Topic7\", \"Topic7\", \"Topic7\", \"Topic7\", \"Topic7\", \"Topic7\", \"Topic7\", \"Topic7\", \"Topic7\", \"Topic7\", \"Topic7\", \"Topic7\", \"Topic7\", \"Topic7\", \"Topic7\", \"Topic7\", \"Topic8\", \"Topic8\", \"Topic8\", \"Topic8\", \"Topic8\", \"Topic8\", \"Topic8\", \"Topic8\", \"Topic8\", \"Topic8\", \"Topic8\", \"Topic8\", \"Topic8\", \"Topic8\", \"Topic8\", \"Topic8\", \"Topic8\", \"Topic8\", \"Topic8\", \"Topic8\", \"Topic8\", \"Topic8\", \"Topic8\", \"Topic8\", \"Topic8\", \"Topic8\", \"Topic8\", \"Topic8\", \"Topic8\", \"Topic8\", \"Topic8\", \"Topic8\", \"Topic8\", \"Topic8\", \"Topic8\", \"Topic8\", \"Topic9\", \"Topic9\", \"Topic9\", \"Topic9\", \"Topic9\", \"Topic9\", \"Topic9\", \"Topic9\", \"Topic9\", \"Topic9\", \"Topic9\", \"Topic9\", \"Topic9\", \"Topic9\", \"Topic9\", \"Topic9\", \"Topic9\", \"Topic9\", \"Topic9\", \"Topic9\", \"Topic9\", \"Topic9\", \"Topic9\", \"Topic9\", \"Topic9\", \"Topic9\", \"Topic9\", \"Topic9\", \"Topic9\", \"Topic9\", \"Topic9\", \"Topic9\", \"Topic9\", \"Topic9\", \"Topic9\", \"Topic9\", \"Topic10\", \"Topic10\", \"Topic10\", \"Topic10\", \"Topic10\", \"Topic10\", \"Topic10\", \"Topic10\", \"Topic10\", \"Topic10\", \"Topic10\", \"Topic10\", \"Topic10\", \"Topic10\", \"Topic10\", \"Topic10\", \"Topic10\", \"Topic10\", \"Topic10\", \"Topic10\", \"Topic10\", \"Topic10\", \"Topic10\", \"Topic10\", \"Topic10\", \"Topic10\", \"Topic10\", \"Topic10\", \"Topic10\", \"Topic10\", \"Topic10\", \"Topic10\", \"Topic10\", \"Topic10\", \"Topic10\", \"Topic10\", \"Topic10\", \"Topic10\"], \"logprob\": [30.0, 29.0, 28.0, 27.0, 26.0, 25.0, 24.0, 23.0, 22.0, 21.0, 20.0, 19.0, 18.0, 17.0, 16.0, 15.0, 14.0, 13.0, 12.0, 11.0, 10.0, 9.0, 8.0, 7.0, 6.0, 5.0, 4.0, 3.0, 2.0, 1.0, -3.5299, -3.9054, -4.1672, -4.3301, -4.2873, -4.5428, -4.5571, -4.6488, -4.7084, -4.7197, -4.7266, -4.725, -4.8526, -4.9131, -4.9125, -4.9448, -4.9948, -5.001, -5.028, -5.0288, -5.1353, -5.2248, -5.2461, -5.2604, -5.2838, -5.2869, -5.3262, -5.3412, -5.3731, -5.3843, -5.3291, -5.3578, -4.6121, -4.6853, -4.8241, -4.9477, -4.4517, -4.9522, -5.1866, -5.1868, -5.1615, -5.1583, -3.9093, -4.1113, -4.2842, -4.5188, -4.5665, -4.6107, -4.6186, -4.6209, -4.7683, -4.8529, -4.8993, -4.9179, -4.9319, -4.955, -4.975, -5.0049, -5.0216, -5.1096, -5.11, -5.1234, -5.2077, -5.2617, -5.2988, -5.3985, -5.4019, -5.411, -5.4386, -5.5002, -5.5106, -5.5396, -5.1598, -4.0999, -4.0025, -4.4647, -3.7679, -4.874, -4.2127, -4.2505, -4.1785, -4.9957, -5.1131, -3.2071, -3.9656, -4.2288, -4.3587, -4.4502, -4.6054, -4.6538, -4.7219, -4.7292, -4.7463, -4.7753, -4.8695, -4.9747, -5.054, -5.0662, -5.1122, -5.1319, -5.1426, -5.1617, -5.1837, -5.2037, -5.225, -5.2451, -5.2521, -5.2525, -5.3774, -5.3882, -5.3684, -5.4598, -5.5072, -4.2543, -4.3552, -5.0989, -4.0586, -5.1552, -4.8038, -5.2192, -3.6305, -3.7633, -3.9658, -4.0791, -4.186, -4.2315, -4.4761, -4.5726, -4.5977, -4.6542, -4.7677, -4.7928, -4.8497, -4.8589, -5.0003, -5.0102, -4.6012, -5.0396, -5.0517, -5.0679, -5.076, -5.1175, -5.1251, -5.2044, -5.2297, -5.2496, -5.259, -5.2923, -5.3161, -5.3251, -4.3253, -3.5072, -3.7467, -3.3361, -4.7609, -4.123, -4.6198, -5.055, -3.8694, -4.0841, -4.1858, -4.19, -4.4762, -4.5066, -4.7656, -4.7809, -4.7956, -4.8525, -4.8727, -4.8757, -4.8895, -4.9318, -4.9461, -4.9479, -4.9578, -4.9765, -4.9987, -5.0084, -5.0126, -5.0445, -5.0701, -5.1336, -5.1485, -5.1515, -5.1597, -5.1697, -5.1923, -5.202, -4.2412, -4.829, -4.7032, -4.8848, -4.9035, -5.1024, -5.0497, -3.2419, -3.4967, -4.1289, -4.4111, -4.5267, -4.5537, -4.6611, -4.7033, -4.7471, -4.7573, -4.9064, -4.9314, -4.9687, -4.9748, -5.0655, -5.0935, -5.0952, -5.1111, -5.1118, -5.1346, -5.1554, -5.202, -5.2082, -5.2995, -5.3626, -5.371, -5.3896, -5.3937, -5.4036, -5.4153, -4.8344, -4.7222, -4.5162, -4.6297, -5.193, -4.7282, -5.0722, -4.9819, -3.1627, -3.6919, -4.094, -4.2024, -4.2241, -4.3748, -4.3854, -4.5003, -4.6657, -4.7274, -4.7418, -4.7434, -4.7987, -4.8451, -4.943, -5.0051, -5.0136, -5.0405, -5.0411, -5.0414, -5.046, -5.1263, -5.1472, -5.1592, -5.1801, -5.1804, -5.1883, -5.2104, -5.2487, -5.2725, -4.3411, -4.5225, -4.4056, -4.5678, -4.4545, -4.1131, -4.9066, -4.2295, -4.655, -4.9362, -5.0254, -3.7343, -3.7802, -3.7935, -3.9617, -4.1641, -4.1658, -4.2392, -4.2511, -4.4271, -4.4346, -4.4468, -4.4681, -4.5458, -4.5845, -4.6096, -4.6103, -4.6732, -4.7694, -4.8111, -4.9903, -5.0999, -5.1459, -5.1737, -5.1759, -5.1894, -5.1988, -5.2427, -5.2445, -5.2788, -5.3158, -4.2998, -4.6728, -4.1539, -5.0262, -5.1149, -5.1605, -3.8224, -4.2032, -4.2292, -4.2707, -4.3621, -4.3762, -4.4673, -4.499, -4.4998, -4.5022, -4.5608, -4.5973, -4.6443, -4.6977, -4.7977, -4.8619, -4.9646, -5.0109, -5.0122, -5.0327, -5.0387, -5.0714, -5.0732, -5.0733, -5.0738, -5.1326, -5.138, -5.1773, -5.2013, -5.2364, -4.8709, -4.0809, -4.5462, -4.5695, -4.5105, -5.0436, -3.2861, -3.747, -4.1758, -4.6014, -4.6203, -4.6413, -4.7061, -4.7082, -4.8361, -4.8407, -4.8698, -5.042, -5.0603, -5.0687, -5.074, -5.0897, -5.1586, -5.1604, -5.1625, -5.1871, -5.1911, -5.2117, -5.2611, -5.3026, -5.3075, -5.3532, -5.3784, -5.388, -5.4117, -5.4933, -4.1702, -3.4039, -3.0047, -3.1056, -4.551, -4.6268, -4.9825, -4.7667], \"loglift\": [30.0, 29.0, 28.0, 27.0, 26.0, 25.0, 24.0, 23.0, 22.0, 21.0, 20.0, 19.0, 18.0, 17.0, 16.0, 15.0, 14.0, 13.0, 12.0, 11.0, 10.0, 9.0, 8.0, 7.0, 6.0, 5.0, 4.0, 3.0, 2.0, 1.0, 2.0202, 2.0202, 2.0202, 2.0202, 2.0202, 2.0202, 2.0202, 2.0202, 2.0202, 2.0202, 2.0201, 2.0201, 2.0201, 2.0201, 2.0201, 2.0201, 2.0201, 2.0201, 2.0201, 2.0201, 2.0201, 2.0201, 2.0201, 2.0201, 2.0201, 2.0201, 2.02, 2.02, 2.02, 2.02, 2.02, 2.02, 1.6539, 1.6359, 1.5525, 1.6312, 0.7344, 1.4879, 1.821, 1.7222, 1.2385, 0.962, 2.2209, 2.2209, 2.2209, 2.2208, 2.2208, 2.2208, 2.2208, 2.2208, 2.2208, 2.2208, 2.2208, 2.2208, 2.2208, 2.2208, 2.2208, 2.2207, 2.2207, 2.2207, 2.2207, 2.2207, 2.2207, 2.2207, 2.2207, 2.2207, 2.2206, 2.2206, 2.2206, 2.2206, 2.2206, 2.2206, 2.2204, 2.0358, 1.9497, 1.7971, 1.0921, 1.826, 1.0263, 0.8151, 0.6933, 0.6643, 1.327, 2.2219, 2.2219, 2.2219, 2.2219, 2.2219, 2.2218, 2.2218, 2.2218, 2.2218, 2.2218, 2.2218, 2.2218, 2.2218, 2.2218, 2.2218, 2.2217, 2.2217, 2.2217, 2.2217, 2.2217, 2.2217, 2.2217, 2.2217, 2.2217, 2.2217, 2.2217, 2.2217, 2.2217, 2.2216, 2.2216, 2.0501, 1.7366, 2.0175, 0.8133, 1.9162, 0.4353, -0.0331, 2.2358, 2.2358, 2.2358, 2.2357, 2.2357, 2.2357, 2.2357, 2.2357, 2.2357, 2.2357, 2.2357, 2.2357, 2.2357, 2.2357, 2.2356, 2.2356, 2.2356, 2.2356, 2.2356, 2.2356, 2.2356, 2.2356, 2.2356, 2.2356, 2.2356, 2.2356, 2.2356, 2.2356, 2.2356, 2.2355, 2.1538, 2.0264, 2.0244, 1.7938, 2.1014, 1.537, 1.5242, 0.6107, 2.3155, 2.3155, 2.3155, 2.3155, 2.3155, 2.3154, 2.3154, 2.3154, 2.3154, 2.3154, 2.3154, 2.3154, 2.3154, 2.3154, 2.3154, 2.3154, 2.3154, 2.3154, 2.3154, 2.3154, 2.3154, 2.3154, 2.3153, 2.3153, 2.3153, 2.3153, 2.3153, 2.3153, 2.3153, 2.3153, 2.0201, 2.0527, 1.3054, 0.6489, 0.2265, 1.7819, 0.6103, 2.3174, 2.3174, 2.3174, 2.3173, 2.3173, 2.3173, 2.3173, 2.3173, 2.3173, 2.3173, 2.3172, 2.3172, 2.3172, 2.3172, 2.3172, 2.3172, 2.3172, 2.3172, 2.3172, 2.3172, 2.3172, 2.3172, 2.3172, 2.3171, 2.3171, 2.3171, 2.3171, 2.3171, 2.3171, 2.3171, 2.1145, 1.9496, 1.6531, 0.5564, 1.8201, 0.1436, 0.88, 0.2572, 2.3886, 2.3886, 2.3885, 2.3885, 2.3885, 2.3885, 2.3885, 2.3885, 2.3885, 2.3885, 2.3885, 2.3885, 2.3884, 2.3884, 2.3884, 2.3884, 2.3884, 2.3884, 2.3884, 2.3884, 2.3884, 2.3884, 2.3884, 2.3884, 2.3884, 2.3884, 2.3884, 2.3883, 2.3883, 2.3883, 2.1752, 2.1588, 2.0125, 2.0003, 1.7563, 0.7588, 1.9625, 0.6305, 0.5841, 1.3256, 0.0402, 2.4534, 2.4534, 2.4534, 2.4534, 2.4533, 2.4533, 2.4533, 2.4533, 2.4533, 2.4533, 2.4533, 2.4533, 2.4533, 2.4533, 2.4533, 2.4533, 2.4533, 2.4533, 2.4532, 2.4532, 2.4532, 2.4532, 2.4532, 2.4532, 2.4532, 2.4531, 2.4531, 2.4531, 2.4531, 2.4531, 2.1017, 2.0755, 0.9761, 2.0888, 2.124, 1.2876, 2.4657, 2.4656, 2.4656, 2.4656, 2.4656, 2.4656, 2.4656, 2.4656, 2.4656, 2.4656, 2.4656, 2.4656, 2.4656, 2.4655, 2.4655, 2.4655, 2.4655, 2.4655, 2.4655, 2.4655, 2.4655, 2.4655, 2.4655, 2.4655, 2.4655, 2.4654, 2.4654, 2.4654, 2.4654, 2.4654, 2.4654, 2.0394, 1.8538, 0.6167, 0.3613, 0.1955, 2.4811, 2.4811, 2.481, 2.481, 2.481, 2.481, 2.481, 2.481, 2.4809, 2.4809, 2.4809, 2.4809, 2.4809, 2.4809, 2.4809, 2.4809, 2.4808, 2.4808, 2.4808, 2.4808, 2.4808, 2.4808, 2.4808, 2.4808, 2.4808, 2.4808, 2.4808, 2.4808, 2.4808, 2.4807, 2.4807, 2.2618, 2.0609, 1.7544, 1.876, 0.245, 1.3387, 0.4195]}, \"token.table\": {\"Topic\": [1, 10, 4, 1, 3, 5, 1, 6, 3, 10, 4, 6, 2, 8, 6, 1, 4, 4, 4, 4, 6, 7, 2, 3, 6, 7, 9, 10, 2, 3, 4, 5, 6, 7, 9, 8, 4, 7, 10, 3, 6, 3, 10, 6, 7, 10, 10, 3, 1, 1, 2, 5, 5, 1, 2, 9, 1, 6, 7, 8, 10, 8, 8, 1, 4, 10, 2, 6, 7, 7, 4, 1, 9, 4, 4, 10, 2, 6, 1, 7, 7, 8, 5, 5, 1, 9, 10, 2, 7, 10, 3, 1, 7, 8, 8, 1, 2, 3, 4, 5, 6, 7, 8, 9, 10, 1, 8, 4, 1, 2, 3, 5, 6, 7, 8, 9, 10, 5, 9, 8, 8, 1, 10, 5, 9, 5, 8, 5, 6, 10, 4, 5, 8, 2, 2, 2, 10, 4, 4, 5, 3, 4, 3, 5, 7, 10, 7, 6, 1, 10, 1, 7, 4, 6, 2, 1, 4, 5, 6, 7, 9, 2, 1, 8, 8, 1, 5, 3, 1, 5, 2, 2, 4, 3, 5, 5, 1, 2, 4, 5, 6, 2, 1, 7, 4, 10, 7, 1, 1, 2, 7, 8, 9, 2, 4, 3, 9, 8, 3, 4, 5, 6, 7, 9, 10, 1, 1, 4, 5, 7, 8, 7, 5, 1, 6, 3, 7, 9, 2, 3, 8, 6, 3, 8, 1, 10, 6, 4, 4, 10, 8, 10, 9, 4, 6, 7, 8, 4, 9, 1, 7, 1, 6, 9, 8, 7, 9, 10, 3, 6, 7, 3, 6, 6, 8, 6, 8, 5, 2, 6, 5, 8, 5, 10, 5, 2, 6, 7, 1, 2, 6, 2, 1, 10, 8, 5, 9, 5, 7, 4, 9, 4, 9, 5, 2, 7, 2, 9, 8, 4, 3, 6, 10, 8, 3, 3, 5, 10, 3, 9, 9, 8, 1, 6, 4, 3, 1, 5, 3, 6, 3, 4, 5, 7, 8, 10, 1, 9, 10, 9, 6, 2, 10, 7, 7, 1, 7, 9, 7, 1, 1, 2, 7, 7, 1, 8, 4, 2, 2, 3, 9, 7, 1, 5, 10, 9, 8, 4, 9, 1, 6, 2, 9, 8, 1, 5, 8, 8, 9, 3, 6, 9, 6, 8, 1, 2, 3, 5, 6, 7, 8, 9, 10, 1, 4, 5, 7, 2, 10, 8, 3, 5, 10, 6, 4, 1, 9, 2, 10, 4, 6, 9, 10, 3, 6, 7, 1, 7, 2, 3, 5, 1, 3, 6, 8, 5, 1, 3, 2, 2, 7, 9, 1, 7, 8, 9, 6, 10, 1, 9, 4, 3, 3, 5, 3, 1, 3, 2, 7, 10, 2, 5, 6, 9, 4, 10, 5, 3, 3, 2, 9, 9, 7, 7, 3, 4, 10, 5, 7, 2, 10, 2, 5, 6, 8, 9, 6, 5, 7, 8, 5, 6, 4, 5, 8, 9, 1, 9, 2, 3, 6, 2, 4, 5, 10, 9, 7, 10], \"Freq\": [0.999777932434845, 0.9998429314252544, 0.9999468506211348, 0.9998404436095963, 0.2558134056811453, 0.7441590552595675, 0.9999483477544313, 0.9998338213943326, 0.9997715477279807, 0.9997915822255928, 0.999799554320674, 0.9998395068392274, 0.31463029930885905, 0.68518477031568, 0.9999179427986773, 0.9999156423598868, 0.9997162039866464, 0.999774473716909, 0.9999282953962776, 0.9997756673172145, 0.31339518463000454, 0.6864846901419147, 0.2170562929832627, 0.24446391428265685, 0.11373814732288791, 0.1959610112210703, 0.12190705731220774, 0.10686883665005077, 0.3028183972791376, 0.16752511467091039, 0.06382706868961686, 0.07056157829938746, 0.12741960221869444, 0.16454316762976817, 0.10329598570608335, 0.9996103458723441, 0.9998822442805855, 0.9998908079985247, 0.9998099664262808, 0.9997250385125572, 0.9997952771733469, 0.9997268147745572, 0.9998315077426053, 0.1707907665512938, 0.2832225259991532, 0.5460029139168775, 0.9997776737217801, 0.9996439501345568, 0.999872180491643, 0.9998410082386946, 0.9997468659305216, 0.9998583166224678, 0.9998383271884325, 0.5872245258159614, 0.40904147227802506, 0.0036750254792199365, 0.6932352429783475, 0.15943755622015174, 0.0001871332819485349, 0.0003742665638970698, 0.14671249304765135, 0.9997681913712874, 0.9999046035010903, 0.9998640474026361, 0.19687801161835772, 0.8030672061919087, 0.9996845692212789, 0.999472091254329, 0.9997483599526421, 0.9998584668581069, 0.9998324951770974, 0.34704086676452933, 0.652915618128652, 0.9999443892175647, 0.9998954670462671, 0.9999639654930254, 0.7624012737362875, 0.23756675271104727, 0.8192426448776805, 0.18050443314375172, 0.9998657398866976, 0.9998451755324259, 0.9999061664149412, 0.9999224607098885, 0.0002728406197956781, 0.9996880309313646, 0.9998228664437704, 0.6545127559572801, 0.34537776317916546, 0.999529929659374, 0.9999068713914405, 0.32173478607079986, 0.6781490888148488, 0.9998576711613336, 0.9998526877070917, 0.007774727918713969, 0.32339657339759786, 0.00041281741161313106, 0.00020640870580656553, 0.0005962918167745227, 0.008600362741940232, 0.1723742036491274, 0.0023392986658077428, 0.0008256348232262621, 0.4835009262015572, 0.9998884627495938, 0.9998570086209173, 0.9999754270076968, 0.0012394369393725995, 0.2451549928036303, 0.0003943662988912816, 5.633804269875452e-05, 0.00033802825619252714, 0.09552115139573829, 0.0001408451067468863, 0.0002816902134937726, 0.6568734088461283, 0.9999324824375192, 0.9996983771183214, 0.999669054421548, 0.9998719450699896, 0.9998463543077442, 0.9997079345713507, 0.9998405591348875, 0.9997077969526951, 0.9998413596707272, 0.9996349386509615, 0.30773232790477345, 0.6922573489500173, 0.9997233407907145, 0.8093882818781452, 0.1904543673848574, 0.00011407868666358634, 0.9997313271258831, 0.9998313815768124, 0.999707547038334, 0.999632802765884, 0.9999319039252116, 0.4134171905957121, 0.5863544110213018, 0.12568906916239606, 0.8742184310525034, 0.9997862400368506, 0.9999301154124539, 0.9997763099545578, 0.999603005280554, 0.9996151846441304, 0.9999350396115914, 0.9997832677431907, 0.9995835980081275, 0.9998268070218602, 0.9996365973713511, 0.9999262543717203, 0.9998058485989595, 0.9997938371191657, 0.22702153592955723, 0.4908999064044092, 0.1442800129840528, 0.006046177352374198, 0.13086246872261964, 0.0009110678202207697, 0.9997146106142774, 0.2964463893399856, 0.7034575324923548, 0.9997460382861062, 0.9999115726653568, 0.9995933987114839, 0.9999503475517969, 0.9997798993093973, 0.9999023046953024, 0.9997750670930629, 0.999883528784642, 0.9997432258162846, 0.9997486435882598, 0.9998242120441427, 0.9998615098592558, 0.9999252171602768, 0.9998265338974764, 0.9998022879151227, 0.9997495446566368, 0.9996084356739248, 0.9998269607924467, 0.9999776332322817, 0.9996473116816652, 0.9997716884392891, 0.0001655799417753046, 0.9998084456756632, 0.9999395970815628, 0.3021899189689008, 0.08205825808553732, 0.1496356470971563, 0.3116193220868011, 0.15435034865610645, 0.6736861579227151, 0.32608431823997663, 0.9998101398330446, 0.9997700162753451, 0.9997779882082274, 0.08447744917671707, 0.1978132050499325, 0.36416434640819384, 0.07630454527520249, 0.12512498893469223, 0.1516688449688148, 0.0003616329159962203, 0.999778432629086, 0.6263777516274599, 0.19175895466072554, 0.1582142001941899, 0.0005225039636532031, 0.02299017440074094, 0.9996958928824334, 0.9999383125479504, 0.9998988668587164, 0.9997385697642756, 0.9998062691426638, 0.9998398908492827, 0.9996805656935008, 0.9999085218075644, 0.9997695241237078, 0.999690781668711, 0.9997917087168049, 0.9999285385873262, 0.9998519806542405, 0.00041244329343924233, 0.9994875811010973, 0.9997857429289495, 0.9997716731925235, 0.9996942311637207, 0.9996068356703183, 0.9998747470905935, 0.9998565578793649, 0.9998908503269142, 0.9996829040101232, 0.9998147161885406, 0.9998747962849571, 0.999664988480552, 0.9996129226838374, 0.9996723440234323, 0.9997065777545597, 0.9996200019938016, 0.6776573939886184, 0.32213353182241666, 0.0001279323001677588, 0.9997450621491218, 0.9997752104591353, 0.9998150944643844, 0.9996163347212114, 0.9998278767022575, 0.8162483393983679, 0.18354937697839405, 0.8151473376960575, 0.18462364472804313, 0.9996181685067222, 0.9995868039187297, 0.999925861809268, 0.9999346856831808, 0.9996258658123729, 0.9999592057279614, 0.9998582121004098, 0.28045671317640836, 0.7193355767790315, 0.9998123662402502, 0.9995788848914259, 0.9997270788659155, 0.9998820703187238, 0.9998623004015401, 0.9996995333141677, 0.9998386050367071, 0.9997126845692895, 0.9998334532799006, 0.9999101946125443, 0.6809320329592827, 0.31906021059381523, 0.9998493003577903, 0.9996775748758742, 0.9995760750959503, 0.9998055844265817, 0.9998694362867019, 0.9997939767656653, 0.99969146752029, 0.9999013546392447, 0.9999007755841098, 0.9997875368251086, 0.9998945719084402, 0.9998875108855337, 0.9995854630623732, 0.0002851070915751207, 0.9998584733771637, 0.9996597199580507, 0.8421043554972404, 0.00019445892056280808, 0.15760895511615594, 0.9996477232436755, 0.9996002712000484, 0.9998931991731498, 0.9995839386955827, 0.9998180705137892, 0.999895125225067, 0.9998183410419985, 0.9998519297021076, 0.9998647718699875, 0.9998832509848863, 0.9995740108245491, 0.9999649508064542, 0.9998249189673015, 0.9998932422205833, 0.9998596874131923, 0.9995377982828726, 0.9998589899815358, 0.9994991786287819, 0.6427409890395254, 0.123801617940261, 0.005016954670231397, 0.22822637502843068, 0.00015020822365962268, 0.9997615034880318, 0.9996810707011923, 0.9996996022420829, 0.9999480618052924, 0.9999275431435867, 0.9998538437405795, 0.9997466665302843, 0.9997926093889327, 0.9997216963138371, 0.9997336468918468, 0.7947325583604741, 0.20523858471659825, 0.999717883505756, 0.9999379844237736, 0.10535043693657199, 0.24148509245850594, 0.652967480882844, 0.9999521956301411, 0.3052845450602131, 0.6945442085324045, 0.9996305580054343, 0.9998966774772694, 0.830969860181689, 0.1689537414642418, 0.9997634758878574, 0.9996915035097219, 0.9998616047784157, 0.9996416195365491, 0.9997416248400729, 0.9996832303641786, 0.9999284557887547, 0.999838002666456, 0.9999129085281292, 0.999878193301269, 0.9997118572051463, 0.9998174089322153, 0.9998458076638119, 0.999827826632092, 0.22079477707475212, 0.7688853413426662, 0.01039034245057657, 0.9996540087079193, 0.9997247415517482, 0.9998620593624413, 0.9998769118760966, 0.9998067950637459, 0.9996711278035867, 0.9997769824125576, 0.2764095097844129, 0.041566295561969654, 0.10486909430772161, 0.0004448991879721523, 0.1718582006109571, 0.0589173638928836, 0.06126897388645069, 0.15739897700186217, 0.12724116776003555, 0.25800198287647674, 0.07446110761809091, 0.136172632005498, 0.5313211733842611, 0.9996151418246871, 0.9998389370583359, 0.999858496709994, 0.7364467047112642, 0.26334563801215755, 0.9997587514131624, 0.9998967614648694, 0.9997560870512743, 0.9998315151069302, 0.9999142122647005, 0.9996363810063579, 0.9997780745775431, 0.999789885341062, 0.999837085294401, 0.9997920135574946, 0.9998546714761892, 0.9997142679176776, 0.9996655009661868, 0.9999511158736102, 0.9998719631813671, 0.9997238526570423, 0.9995513538357299, 0.9998930920366522, 0.9996653164019033, 0.32822058287748024, 8.494321503040379e-05, 0.5146709398692165, 0.1569750613761862, 0.999804048020275, 0.9997603085648038, 0.9998065733331365, 0.9998528798840597, 0.9998342474209032, 0.9998333755849946, 0.9997761225669551, 0.7422869774587197, 0.02722846021366198, 0.10642234776320172, 0.12404076319557124, 0.9999671101399871, 0.9997439565241809, 0.9998910682448022, 0.9998196281267415, 0.9998155467024137, 0.9996157903371938, 0.9998780535837464, 0.9998629082424555, 0.9998210783067181, 0.999762160145345, 0.999840563032313, 0.9998179403713379, 0.9999017746804618, 0.9995287762578715, 0.9997332884481083, 0.9996895086707394, 0.9997884378414917, 0.9997923454725763, 0.9212244611550675, 0.07862134352995108, 0.9998638775805084, 0.9999723858847733, 0.9998551815606405, 0.9996148840357962, 0.9997834898657261, 0.9998328524642712, 0.9998653521874327, 0.9998228094171627, 0.9999675844339679, 0.999835014413972, 0.9999611982341702, 0.19204758678240316, 0.8078497361397459, 0.9998298887525631, 0.9997474902378481, 0.9998903762743567, 0.39164469900058124, 0.6081059143836559, 0.9998909842212348, 0.9999048363811923, 0.9996062553584268, 0.9997966591121903, 0.9999359791433173, 0.9998181860944539, 0.9998506535319371, 0.9998045748971229, 0.8110930264834532, 0.18888467740025622, 4.4983252536379184e-05, 0.9999354435062707, 0.4575603485041502, 0.5422897840934153, 0.18402500522335452, 0.6155129392989602, 0.2004544055188185, 0.21084504573386884, 0.49717782389097465, 0.18170137080914378, 0.11024577554712095, 0.9999033171244848, 0.9996490720107294, 0.9996501169170691], \"Term\": [\"aboriginal\", \"abuse\", \"accused\", \"action\", \"adelaide\", \"adelaide\", \"aged\", \"airport\", \"alan\", \"allegation\", \"alleged\", \"america\", \"amid\", \"amid\", \"andrew\", \"announces\", \"appeal\", \"arrest\", \"arrested\", \"assault\", \"attack\", \"attack\", \"australia\", \"australia\", \"australia\", \"australia\", \"australia\", \"australia\", \"australian\", \"australian\", \"australian\", \"australian\", \"australian\", \"australian\", \"australian\", \"authority\", \"baby\", \"bank\", \"beach\", \"beat\", \"biden\", \"black\", \"body\", \"border\", \"border\", \"border\", \"bos\", \"break\", \"briefing\", \"budget\", \"building\", \"bushfire\", \"bushfires\", \"business\", \"business\", \"business\", \"call\", \"call\", \"call\", \"call\", \"call\", \"campaign\", \"canberra\", \"care\", \"case\", \"case\", \"cattle\", \"cause\", \"central\", \"centre\", \"challenge\", \"change\", \"change\", \"charge\", \"charged\", \"child\", \"china\", \"china\", \"christmas\", \"christmas\", \"city\", \"claim\", \"climate\", \"close\", \"club\", \"club\", \"coal\", \"coast\", \"coast\", \"come\", \"commission\", \"community\", \"community\", \"concern\", \"continues\", \"coronavirus\", \"coronavirus\", \"coronavirus\", \"coronavirus\", \"coronavirus\", \"coronavirus\", \"coronavirus\", \"coronavirus\", \"coronavirus\", \"coronavirus\", \"council\", \"country\", \"court\", \"covid\", \"covid\", \"covid\", \"covid\", \"covid\", \"covid\", \"covid\", \"covid\", \"covid\", \"crash\", \"cricket\", \"crime\", \"crisis\", \"cut\", \"daniel\", \"darwin\", \"data\", \"david\", \"day\", \"dead\", \"dead\", \"deal\", \"death\", \"death\", \"death\", \"debate\", \"disability\", \"dollar\", \"domestic\", \"donald\", \"driver\", \"driver\", \"drug\", \"drug\", \"drum\", \"dy\", \"east\", \"economic\", \"economy\", \"election\", \"emergency\", \"energy\", \"expert\", \"extended\", \"face\", \"facebook\", \"fall\", \"family\", \"family\", \"family\", \"family\", \"family\", \"family\", \"farm\", \"farmer\", \"farmer\", \"fatal\", \"federal\", \"festival\", \"final\", \"finance\", \"find\", \"flight\", \"flood\", \"food\", \"footage\", \"free\", \"friday\", \"funding\", \"george\", \"get\", \"girl\", \"global\", \"gold\", \"government\", \"great\", \"guilty\", \"guilty\", \"head\", \"health\", \"help\", \"help\", \"help\", \"help\", \"help\", \"high\", \"high\", \"hill\", \"history\", \"hold\", \"home\", \"home\", \"home\", \"home\", \"home\", \"home\", \"home\", \"hong\", \"hospital\", \"hospital\", \"hospital\", \"hospital\", \"hospital\", \"hour\", \"house\", \"housing\", \"human\", \"india\", \"indigenous\", \"indonesia\", \"industry\", \"inquest\", \"inside\", \"international\", \"interview\", \"investigation\", \"island\", \"island\", \"issue\", \"jail\", \"jailed\", \"james\", \"john\", \"johnson\", \"join\", \"kid\", \"kill\", \"killed\", \"killer\", \"killing\", \"kohler\", \"kong\", \"korea\", \"labor\", \"labor\", \"labor\", \"lake\", \"latest\", \"law\", \"lawyer\", \"lead\", \"leader\", \"leader\", \"league\", \"league\", \"leave\", \"left\", \"liberal\", \"life\", \"light\", \"live\", \"lockdown\", \"long\", \"long\", \"look\", \"make\", \"mark\", \"market\", \"medium\", \"meet\", \"mental\", \"michael\", \"military\", \"million\", \"minister\", \"minister\", \"missing\", \"monday\", \"money\", \"month\", \"morrison\", \"mother\", \"mount\", \"murder\", \"national\", \"near\", \"news\", \"north\", \"number\", \"number\", \"officer\", \"online\", \"open\", \"open\", \"open\", \"opposition\", \"outback\", \"outbreak\", \"owner\", \"pacific\", \"pandemic\", \"park\", \"parliament\", \"party\", \"patient\", \"paul\", \"people\", \"peter\", \"plan\", \"plane\", \"play\", \"player\", \"point\", \"police\", \"police\", \"police\", \"police\", \"police\", \"policy\", \"politics\", \"post\", \"premier\", \"president\", \"price\", \"prime\", \"prince\", \"program\", \"project\", \"protest\", \"protest\", \"protester\", \"public\", \"quarantine\", \"quarantine\", \"quarantine\", \"queensland\", \"question\", \"question\", \"rape\", \"rate\", \"record\", \"record\", \"recovery\", \"refugee\", \"regional\", \"rescue\", \"research\", \"response\", \"restriction\", \"result\", \"return\", \"review\", \"right\", \"rise\", \"risk\", \"river\", \"road\", \"road\", \"road\", \"robert\", \"rollout\", \"royal\", \"rugby\", \"rural\", \"russia\", \"russian\", \"say\", \"say\", \"say\", \"say\", \"say\", \"say\", \"say\", \"say\", \"say\", \"school\", \"school\", \"school\", \"school\", \"scientist\", \"scott\", \"search\", \"season\", \"season\", \"second\", \"security\", \"sentenced\", \"service\", \"sexual\", \"share\", \"ship\", \"shooting\", \"shot\", \"show\", \"sign\", \"smith\", \"social\", \"south\", \"speaks\", \"sport\", \"spring\", \"star\", \"start\", \"state\", \"state\", \"state\", \"state\", \"station\", \"stop\", \"storm\", \"story\", \"street\", \"student\", \"study\", \"support\", \"support\", \"support\", \"support\", \"sydney\", \"target\", \"tasmania\", \"tasmanian\", \"teen\", \"territory\", \"test\", \"testing\", \"thursday\", \"told\", \"tour\", \"tourism\", \"town\", \"townsville\", \"trade\", \"train\", \"travel\", \"tree\", \"trial\", \"trial\", \"truck\", \"trump\", \"tuesday\", \"turn\", \"turnbull\", \"union\", \"university\", \"update\", \"vaccine\", \"victim\", \"victoria\", \"victorian\", \"victorian\", \"video\", \"violence\", \"wall\", \"warning\", \"warning\", \"water\", \"weather\", \"wednesday\", \"week\", \"west\", \"western\", \"white\", \"win\", \"woman\", \"woman\", \"woman\", \"work\", \"worker\", \"worker\", \"world\", \"world\", \"world\", \"year\", \"year\", \"year\", \"year\", \"young\", \"youth\", \"zealand\"]}, \"R\": 30, \"lambda.step\": 0.01, \"plot.opts\": {\"xlab\": \"PC1\", \"ylab\": \"PC2\"}, \"topic.order\": [6, 8, 10, 5, 7, 3, 4, 2, 9, 1]};\n",
       "\n",
       "function LDAvis_load_lib(url, callback){\n",
       "  var s = document.createElement('script');\n",
       "  s.src = url;\n",
       "  s.async = true;\n",
       "  s.onreadystatechange = s.onload = callback;\n",
       "  s.onerror = function(){console.warn(\"failed to load library \" + url);};\n",
       "  document.getElementsByTagName(\"head\")[0].appendChild(s);\n",
       "}\n",
       "\n",
       "if(typeof(LDAvis) !== \"undefined\"){\n",
       "   // already loaded: just create the visualization\n",
       "   !function(LDAvis){\n",
       "       new LDAvis(\"#\" + \"ldavis_el39510111328096481912013669\", ldavis_el39510111328096481912013669_data);\n",
       "   }(LDAvis);\n",
       "}else if(typeof define === \"function\" && define.amd){\n",
       "   // require.js is available: use it to load d3/LDAvis\n",
       "   require.config({paths: {d3: \"https://d3js.org/d3.v5\"}});\n",
       "   require([\"d3\"], function(d3){\n",
       "      window.d3 = d3;\n",
       "      LDAvis_load_lib(\"https://cdn.jsdelivr.net/gh/bmabey/pyLDAvis@3.4.0/pyLDAvis/js/ldavis.v3.0.0.js\", function(){\n",
       "        new LDAvis(\"#\" + \"ldavis_el39510111328096481912013669\", ldavis_el39510111328096481912013669_data);\n",
       "      });\n",
       "    });\n",
       "}else{\n",
       "    // require.js not available: dynamically load d3 & LDAvis\n",
       "    LDAvis_load_lib(\"https://d3js.org/d3.v5.js\", function(){\n",
       "         LDAvis_load_lib(\"https://cdn.jsdelivr.net/gh/bmabey/pyLDAvis@3.4.0/pyLDAvis/js/ldavis.v3.0.0.js\", function(){\n",
       "                 new LDAvis(\"#\" + \"ldavis_el39510111328096481912013669\", ldavis_el39510111328096481912013669_data);\n",
       "            })\n",
       "         });\n",
       "}\n",
       "</script>"
      ],
      "text/plain": [
       "<IPython.core.display.HTML object>"
      ]
     },
     "execution_count": 103,
     "metadata": {},
     "output_type": "execute_result"
    }
   ],
   "source": [
    "%matplotlib inline\n",
    "import pyLDAvis\n",
    "import pyLDAvis.gensim\n",
    "vis = pyLDAvis.gensim.prepare(topic_model=lda_model, corpus=bow_corpus, dictionary=dictionary)\n",
    "pyLDAvis.enable_notebook()\n",
    "pyLDAvis.display(vis)"
   ]
  },
  {
   "cell_type": "code",
   "execution_count": 104,
   "id": "9e50650f",
   "metadata": {},
   "outputs": [
    {
     "name": "stdout",
     "output_type": "stream",
     "text": [
      "I wouldn't be caught dead watching the NFL if it weren't for Taylor Swift.\n",
      "Score: 0.34987887740135193\t Topic_id 9\t Topic: 0.040*\"trump\" + 0.019*\"vaccine\" + 0.017*\"australia\" + 0.015*\"test\" + 0.014*\"open\"\n",
      "Score: 0.18338239192962646\t Topic_id 2\t Topic: 0.039*\"sydney\" + 0.030*\"election\" + 0.016*\"lockdown\" + 0.012*\"andrew\" + 0.011*\"state\"\n",
      "Score: 0.1833508163690567\t Topic_id 1\t Topic: 0.024*\"canberra\" + 0.023*\"restriction\" + 0.023*\"life\" + 0.019*\"water\" + 0.016*\"police\"\n",
      "Score: 0.1833455115556717\t Topic_id 4\t Topic: 0.036*\"police\" + 0.030*\"woman\" + 0.027*\"court\" + 0.024*\"death\" + 0.023*\"donald\"\n",
      "Score: 0.016676638275384903\t Topic_id 6\t Topic: 0.021*\"crash\" + 0.017*\"house\" + 0.015*\"bushfire\" + 0.015*\"dy\" + 0.014*\"adelaide\"\n",
      "Score: 0.016673153266310692\t Topic_id 0\t Topic: 0.050*\"covid\" + 0.045*\"coronavirus\" + 0.037*\"victoria\" + 0.033*\"case\" + 0.024*\"child\"\n",
      "Score: 0.016673153266310692\t Topic_id 3\t Topic: 0.042*\"queensland\" + 0.025*\"south\" + 0.017*\"north\" + 0.016*\"australia\" + 0.015*\"indigenous\"\n",
      "Score: 0.016673153266310692\t Topic_id 5\t Topic: 0.029*\"government\" + 0.020*\"health\" + 0.015*\"tasmania\" + 0.014*\"plan\" + 0.013*\"federal\"\n",
      "Score: 0.016673153266310692\t Topic_id 7\t Topic: 0.023*\"coronavirus\" + 0.020*\"news\" + 0.018*\"china\" + 0.017*\"record\" + 0.016*\"market\"\n",
      "Score: 0.016673153266310692\t Topic_id 8\t Topic: 0.022*\"national\" + 0.017*\"change\" + 0.015*\"premier\" + 0.015*\"return\" + 0.014*\"tasmanian\"\n",
      "\n",
      "Chris O'Donnell stated that while filming for this movie, he felt like he was in a Toys ''R'' Us commercial.\n",
      "Score: 0.26280325651168823\t Topic_id 6\t Topic: 0.021*\"crash\" + 0.017*\"house\" + 0.015*\"bushfire\" + 0.015*\"dy\" + 0.014*\"adelaide\"\n",
      "Score: 0.2625187635421753\t Topic_id 4\t Topic: 0.036*\"police\" + 0.030*\"woman\" + 0.027*\"court\" + 0.024*\"death\" + 0.023*\"donald\"\n",
      "Score: 0.13755051791667938\t Topic_id 9\t Topic: 0.040*\"trump\" + 0.019*\"vaccine\" + 0.017*\"australia\" + 0.015*\"test\" + 0.014*\"open\"\n",
      "Score: 0.13749556243419647\t Topic_id 3\t Topic: 0.042*\"queensland\" + 0.025*\"south\" + 0.017*\"north\" + 0.016*\"australia\" + 0.015*\"indigenous\"\n",
      "Score: 0.13705137372016907\t Topic_id 0\t Topic: 0.050*\"covid\" + 0.045*\"coronavirus\" + 0.037*\"victoria\" + 0.033*\"case\" + 0.024*\"child\"\n",
      "Score: 0.012516101822257042\t Topic_id 1\t Topic: 0.024*\"canberra\" + 0.023*\"restriction\" + 0.023*\"life\" + 0.019*\"water\" + 0.016*\"police\"\n",
      "Score: 0.012516101822257042\t Topic_id 2\t Topic: 0.039*\"sydney\" + 0.030*\"election\" + 0.016*\"lockdown\" + 0.012*\"andrew\" + 0.011*\"state\"\n",
      "Score: 0.012516101822257042\t Topic_id 5\t Topic: 0.029*\"government\" + 0.020*\"health\" + 0.015*\"tasmania\" + 0.014*\"plan\" + 0.013*\"federal\"\n",
      "Score: 0.012516101822257042\t Topic_id 7\t Topic: 0.023*\"coronavirus\" + 0.020*\"news\" + 0.018*\"china\" + 0.017*\"record\" + 0.016*\"market\"\n",
      "Score: 0.012516101822257042\t Topic_id 8\t Topic: 0.022*\"national\" + 0.017*\"change\" + 0.015*\"premier\" + 0.015*\"return\" + 0.014*\"tasmanian\"\n",
      "\n",
      "The whole game was a rollercoaster ride, but Los Angeles Lakers ultimately persevered and won!\n",
      "Score: 0.22020426392555237\t Topic_id 9\t Topic: 0.040*\"trump\" + 0.019*\"vaccine\" + 0.017*\"australia\" + 0.015*\"test\" + 0.014*\"open\"\n",
      "Score: 0.22016210854053497\t Topic_id 7\t Topic: 0.023*\"coronavirus\" + 0.020*\"news\" + 0.018*\"china\" + 0.017*\"record\" + 0.016*\"market\"\n",
      "Score: 0.2199266254901886\t Topic_id 6\t Topic: 0.021*\"crash\" + 0.017*\"house\" + 0.015*\"bushfire\" + 0.015*\"dy\" + 0.014*\"adelaide\"\n",
      "Score: 0.21956998109817505\t Topic_id 4\t Topic: 0.036*\"police\" + 0.030*\"woman\" + 0.027*\"court\" + 0.024*\"death\" + 0.023*\"donald\"\n",
      "Score: 0.02002599835395813\t Topic_id 8\t Topic: 0.022*\"national\" + 0.017*\"change\" + 0.015*\"premier\" + 0.015*\"return\" + 0.014*\"tasmanian\"\n",
      "Score: 0.020025545731186867\t Topic_id 2\t Topic: 0.039*\"sydney\" + 0.030*\"election\" + 0.016*\"lockdown\" + 0.012*\"andrew\" + 0.011*\"state\"\n",
      "Score: 0.02002137340605259\t Topic_id 0\t Topic: 0.050*\"covid\" + 0.045*\"coronavirus\" + 0.037*\"victoria\" + 0.033*\"case\" + 0.024*\"child\"\n",
      "Score: 0.02002137340605259\t Topic_id 1\t Topic: 0.024*\"canberra\" + 0.023*\"restriction\" + 0.023*\"life\" + 0.019*\"water\" + 0.016*\"police\"\n",
      "Score: 0.02002137154340744\t Topic_id 3\t Topic: 0.042*\"queensland\" + 0.025*\"south\" + 0.017*\"north\" + 0.016*\"australia\" + 0.015*\"indigenous\"\n",
      "Score: 0.02002137154340744\t Topic_id 5\t Topic: 0.029*\"government\" + 0.020*\"health\" + 0.015*\"tasmania\" + 0.014*\"plan\" + 0.013*\"federal\"\n",
      "\n",
      "Zendaya slayed in Dune 2, as she does in all her movies.\n",
      "Score: 0.3669746220111847\t Topic_id 9\t Topic: 0.040*\"trump\" + 0.019*\"vaccine\" + 0.017*\"australia\" + 0.015*\"test\" + 0.014*\"open\"\n",
      "Score: 0.3660525381565094\t Topic_id 0\t Topic: 0.050*\"covid\" + 0.045*\"coronavirus\" + 0.037*\"victoria\" + 0.033*\"case\" + 0.024*\"child\"\n",
      "Score: 0.03337160497903824\t Topic_id 1\t Topic: 0.024*\"canberra\" + 0.023*\"restriction\" + 0.023*\"life\" + 0.019*\"water\" + 0.016*\"police\"\n",
      "Score: 0.03337160497903824\t Topic_id 2\t Topic: 0.039*\"sydney\" + 0.030*\"election\" + 0.016*\"lockdown\" + 0.012*\"andrew\" + 0.011*\"state\"\n",
      "Score: 0.03337160497903824\t Topic_id 3\t Topic: 0.042*\"queensland\" + 0.025*\"south\" + 0.017*\"north\" + 0.016*\"australia\" + 0.015*\"indigenous\"\n",
      "Score: 0.03337160497903824\t Topic_id 4\t Topic: 0.036*\"police\" + 0.030*\"woman\" + 0.027*\"court\" + 0.024*\"death\" + 0.023*\"donald\"\n",
      "Score: 0.03337160497903824\t Topic_id 5\t Topic: 0.029*\"government\" + 0.020*\"health\" + 0.015*\"tasmania\" + 0.014*\"plan\" + 0.013*\"federal\"\n",
      "Score: 0.03337160497903824\t Topic_id 6\t Topic: 0.021*\"crash\" + 0.017*\"house\" + 0.015*\"bushfire\" + 0.015*\"dy\" + 0.014*\"adelaide\"\n",
      "Score: 0.03337160497903824\t Topic_id 7\t Topic: 0.023*\"coronavirus\" + 0.020*\"news\" + 0.018*\"china\" + 0.017*\"record\" + 0.016*\"market\"\n",
      "Score: 0.03337160497903824\t Topic_id 8\t Topic: 0.022*\"national\" + 0.017*\"change\" + 0.015*\"premier\" + 0.015*\"return\" + 0.014*\"tasmanian\"\n",
      "\n",
      "While my favorite player was playing this match and started off strongggg, it went downhill after Messi's injyry midgame.\n",
      "Score: 0.4429812431335449\t Topic_id 9\t Topic: 0.040*\"trump\" + 0.019*\"vaccine\" + 0.017*\"australia\" + 0.015*\"test\" + 0.014*\"open\"\n",
      "Score: 0.15722684562206268\t Topic_id 2\t Topic: 0.039*\"sydney\" + 0.030*\"election\" + 0.016*\"lockdown\" + 0.012*\"andrew\" + 0.011*\"state\"\n",
      "Score: 0.15709742903709412\t Topic_id 8\t Topic: 0.022*\"national\" + 0.017*\"change\" + 0.015*\"premier\" + 0.015*\"return\" + 0.014*\"tasmanian\"\n",
      "Score: 0.1569249927997589\t Topic_id 6\t Topic: 0.021*\"crash\" + 0.017*\"house\" + 0.015*\"bushfire\" + 0.015*\"dy\" + 0.014*\"adelaide\"\n",
      "Score: 0.014294922351837158\t Topic_id 0\t Topic: 0.050*\"covid\" + 0.045*\"coronavirus\" + 0.037*\"victoria\" + 0.033*\"case\" + 0.024*\"child\"\n",
      "Score: 0.014294922351837158\t Topic_id 1\t Topic: 0.024*\"canberra\" + 0.023*\"restriction\" + 0.023*\"life\" + 0.019*\"water\" + 0.016*\"police\"\n",
      "Score: 0.014294922351837158\t Topic_id 3\t Topic: 0.042*\"queensland\" + 0.025*\"south\" + 0.017*\"north\" + 0.016*\"australia\" + 0.015*\"indigenous\"\n",
      "Score: 0.014294922351837158\t Topic_id 4\t Topic: 0.036*\"police\" + 0.030*\"woman\" + 0.027*\"court\" + 0.024*\"death\" + 0.023*\"donald\"\n",
      "Score: 0.014294922351837158\t Topic_id 5\t Topic: 0.029*\"government\" + 0.020*\"health\" + 0.015*\"tasmania\" + 0.014*\"plan\" + 0.013*\"federal\"\n",
      "Score: 0.014294922351837158\t Topic_id 7\t Topic: 0.023*\"coronavirus\" + 0.020*\"news\" + 0.018*\"china\" + 0.017*\"record\" + 0.016*\"market\"\n",
      "\n",
      "My uncle's brother's neighbor's cat's veterinarian David reads the communist manifesto in his spare time.\n",
      "Score: 0.2632327079772949\t Topic_id 2\t Topic: 0.039*\"sydney\" + 0.030*\"election\" + 0.016*\"lockdown\" + 0.012*\"andrew\" + 0.011*\"state\"\n",
      "Score: 0.20432044565677643\t Topic_id 0\t Topic: 0.050*\"covid\" + 0.045*\"coronavirus\" + 0.037*\"victoria\" + 0.033*\"case\" + 0.024*\"child\"\n",
      "Score: 0.16172057390213013\t Topic_id 4\t Topic: 0.036*\"police\" + 0.030*\"woman\" + 0.027*\"court\" + 0.024*\"death\" + 0.023*\"donald\"\n",
      "Score: 0.15794792771339417\t Topic_id 9\t Topic: 0.040*\"trump\" + 0.019*\"vaccine\" + 0.017*\"australia\" + 0.015*\"test\" + 0.014*\"open\"\n",
      "Score: 0.15017907321453094\t Topic_id 6\t Topic: 0.021*\"crash\" + 0.017*\"house\" + 0.015*\"bushfire\" + 0.015*\"dy\" + 0.014*\"adelaide\"\n",
      "Score: 0.012520152144134045\t Topic_id 8\t Topic: 0.022*\"national\" + 0.017*\"change\" + 0.015*\"premier\" + 0.015*\"return\" + 0.014*\"tasmanian\"\n",
      "Score: 0.012519926764070988\t Topic_id 3\t Topic: 0.042*\"queensland\" + 0.025*\"south\" + 0.017*\"north\" + 0.016*\"australia\" + 0.015*\"indigenous\"\n",
      "Score: 0.012519813142716885\t Topic_id 7\t Topic: 0.023*\"coronavirus\" + 0.020*\"news\" + 0.018*\"china\" + 0.017*\"record\" + 0.016*\"market\"\n",
      "Score: 0.012519745156168938\t Topic_id 5\t Topic: 0.029*\"government\" + 0.020*\"health\" + 0.015*\"tasmania\" + 0.014*\"plan\" + 0.013*\"federal\"\n",
      "Score: 0.012519635260105133\t Topic_id 1\t Topic: 0.024*\"canberra\" + 0.023*\"restriction\" + 0.023*\"life\" + 0.019*\"water\" + 0.016*\"police\"\n",
      "\n",
      "He said that The Great Gatsby is the best novell ever, and I was about to throw hands.\n",
      "Score: 0.183400958776474\t Topic_id 3\t Topic: 0.042*\"queensland\" + 0.025*\"south\" + 0.017*\"north\" + 0.016*\"australia\" + 0.015*\"indigenous\"\n",
      "Score: 0.1833825558423996\t Topic_id 0\t Topic: 0.050*\"covid\" + 0.045*\"coronavirus\" + 0.037*\"victoria\" + 0.033*\"case\" + 0.024*\"child\"\n",
      "Score: 0.18337149918079376\t Topic_id 9\t Topic: 0.040*\"trump\" + 0.019*\"vaccine\" + 0.017*\"australia\" + 0.015*\"test\" + 0.014*\"open\"\n",
      "Score: 0.1832915097475052\t Topic_id 1\t Topic: 0.024*\"canberra\" + 0.023*\"restriction\" + 0.023*\"life\" + 0.019*\"water\" + 0.016*\"police\"\n",
      "Score: 0.18317151069641113\t Topic_id 4\t Topic: 0.036*\"police\" + 0.030*\"woman\" + 0.027*\"court\" + 0.024*\"death\" + 0.023*\"donald\"\n",
      "Score: 0.016680145636200905\t Topic_id 2\t Topic: 0.039*\"sydney\" + 0.030*\"election\" + 0.016*\"lockdown\" + 0.012*\"andrew\" + 0.011*\"state\"\n",
      "Score: 0.01667545922100544\t Topic_id 5\t Topic: 0.029*\"government\" + 0.020*\"health\" + 0.015*\"tasmania\" + 0.014*\"plan\" + 0.013*\"federal\"\n",
      "Score: 0.01667545922100544\t Topic_id 6\t Topic: 0.021*\"crash\" + 0.017*\"house\" + 0.015*\"bushfire\" + 0.015*\"dy\" + 0.014*\"adelaide\"\n",
      "Score: 0.01667545922100544\t Topic_id 7\t Topic: 0.023*\"coronavirus\" + 0.020*\"news\" + 0.018*\"china\" + 0.017*\"record\" + 0.016*\"market\"\n",
      "Score: 0.01667545922100544\t Topic_id 8\t Topic: 0.022*\"national\" + 0.017*\"change\" + 0.015*\"premier\" + 0.015*\"return\" + 0.014*\"tasmanian\"\n",
      "\n",
      "I could not look away from this train wrck of a movie, on February 14th of all days.\n",
      "Score: 0.43332087993621826\t Topic_id 6\t Topic: 0.021*\"crash\" + 0.017*\"house\" + 0.015*\"bushfire\" + 0.015*\"dy\" + 0.014*\"adelaide\"\n",
      "Score: 0.1666901856660843\t Topic_id 9\t Topic: 0.040*\"trump\" + 0.019*\"vaccine\" + 0.017*\"australia\" + 0.015*\"test\" + 0.014*\"open\"\n",
      "Score: 0.1571534425020218\t Topic_id 1\t Topic: 0.024*\"canberra\" + 0.023*\"restriction\" + 0.023*\"life\" + 0.019*\"water\" + 0.016*\"police\"\n",
      "Score: 0.15709954500198364\t Topic_id 3\t Topic: 0.042*\"queensland\" + 0.025*\"south\" + 0.017*\"north\" + 0.016*\"australia\" + 0.015*\"indigenous\"\n",
      "Score: 0.014289320446550846\t Topic_id 0\t Topic: 0.050*\"covid\" + 0.045*\"coronavirus\" + 0.037*\"victoria\" + 0.033*\"case\" + 0.024*\"child\"\n",
      "Score: 0.014289320446550846\t Topic_id 2\t Topic: 0.039*\"sydney\" + 0.030*\"election\" + 0.016*\"lockdown\" + 0.012*\"andrew\" + 0.011*\"state\"\n",
      "Score: 0.014289320446550846\t Topic_id 4\t Topic: 0.036*\"police\" + 0.030*\"woman\" + 0.027*\"court\" + 0.024*\"death\" + 0.023*\"donald\"\n",
      "Score: 0.014289320446550846\t Topic_id 5\t Topic: 0.029*\"government\" + 0.020*\"health\" + 0.015*\"tasmania\" + 0.014*\"plan\" + 0.013*\"federal\"\n",
      "Score: 0.014289320446550846\t Topic_id 7\t Topic: 0.023*\"coronavirus\" + 0.020*\"news\" + 0.018*\"china\" + 0.017*\"record\" + 0.016*\"market\"\n",
      "Score: 0.014289320446550846\t Topic_id 8\t Topic: 0.022*\"national\" + 0.017*\"change\" + 0.015*\"premier\" + 0.015*\"return\" + 0.014*\"tasmanian\"\n",
      "\n",
      "The film Everything Everywhere All At Once follows Evelyn Wang, a woman drowning under the stress of her family's failing laundromat.\n",
      "Score: 0.3352029621601105\t Topic_id 4\t Topic: 0.036*\"police\" + 0.030*\"woman\" + 0.027*\"court\" + 0.024*\"death\" + 0.023*\"donald\"\n",
      "Score: 0.3148256838321686\t Topic_id 6\t Topic: 0.021*\"crash\" + 0.017*\"house\" + 0.015*\"bushfire\" + 0.015*\"dy\" + 0.014*\"adelaide\"\n",
      "Score: 0.13751253485679626\t Topic_id 8\t Topic: 0.022*\"national\" + 0.017*\"change\" + 0.015*\"premier\" + 0.015*\"return\" + 0.014*\"tasmanian\"\n",
      "Score: 0.13743358850479126\t Topic_id 0\t Topic: 0.050*\"covid\" + 0.045*\"coronavirus\" + 0.037*\"victoria\" + 0.033*\"case\" + 0.024*\"child\"\n",
      "Score: 0.01250454317778349\t Topic_id 5\t Topic: 0.029*\"government\" + 0.020*\"health\" + 0.015*\"tasmania\" + 0.014*\"plan\" + 0.013*\"federal\"\n",
      "Score: 0.012504462152719498\t Topic_id 3\t Topic: 0.042*\"queensland\" + 0.025*\"south\" + 0.017*\"north\" + 0.016*\"australia\" + 0.015*\"indigenous\"\n",
      "Score: 0.012504073791205883\t Topic_id 2\t Topic: 0.039*\"sydney\" + 0.030*\"election\" + 0.016*\"lockdown\" + 0.012*\"andrew\" + 0.011*\"state\"\n",
      "Score: 0.01250405702739954\t Topic_id 1\t Topic: 0.024*\"canberra\" + 0.023*\"restriction\" + 0.023*\"life\" + 0.019*\"water\" + 0.016*\"police\"\n",
      "Score: 0.01250405702739954\t Topic_id 7\t Topic: 0.023*\"coronavirus\" + 0.020*\"news\" + 0.018*\"china\" + 0.017*\"record\" + 0.016*\"market\"\n",
      "Score: 0.01250405702739954\t Topic_id 9\t Topic: 0.040*\"trump\" + 0.019*\"vaccine\" + 0.017*\"australia\" + 0.015*\"test\" + 0.014*\"open\"\n",
      "\n",
      "I just finished reading pride and prejudice which had me HOOOKED from the beginning.\n",
      "Score: 0.35019823908805847\t Topic_id 8\t Topic: 0.022*\"national\" + 0.017*\"change\" + 0.015*\"premier\" + 0.015*\"return\" + 0.014*\"tasmanian\"\n",
      "Score: 0.1835061013698578\t Topic_id 4\t Topic: 0.036*\"police\" + 0.030*\"woman\" + 0.027*\"court\" + 0.024*\"death\" + 0.023*\"donald\"\n",
      "Score: 0.18315495550632477\t Topic_id 6\t Topic: 0.021*\"crash\" + 0.017*\"house\" + 0.015*\"bushfire\" + 0.015*\"dy\" + 0.014*\"adelaide\"\n",
      "Score: 0.18289215862751007\t Topic_id 7\t Topic: 0.023*\"coronavirus\" + 0.020*\"news\" + 0.018*\"china\" + 0.017*\"record\" + 0.016*\"market\"\n",
      "Score: 0.01670808531343937\t Topic_id 0\t Topic: 0.050*\"covid\" + 0.045*\"coronavirus\" + 0.037*\"victoria\" + 0.033*\"case\" + 0.024*\"child\"\n",
      "Score: 0.01670808531343937\t Topic_id 1\t Topic: 0.024*\"canberra\" + 0.023*\"restriction\" + 0.023*\"life\" + 0.019*\"water\" + 0.016*\"police\"\n",
      "Score: 0.01670808531343937\t Topic_id 2\t Topic: 0.039*\"sydney\" + 0.030*\"election\" + 0.016*\"lockdown\" + 0.012*\"andrew\" + 0.011*\"state\"\n",
      "Score: 0.01670808531343937\t Topic_id 3\t Topic: 0.042*\"queensland\" + 0.025*\"south\" + 0.017*\"north\" + 0.016*\"australia\" + 0.015*\"indigenous\"\n",
      "Score: 0.01670808531343937\t Topic_id 5\t Topic: 0.029*\"government\" + 0.020*\"health\" + 0.015*\"tasmania\" + 0.014*\"plan\" + 0.013*\"federal\"\n",
      "Score: 0.01670808531343937\t Topic_id 9\t Topic: 0.040*\"trump\" + 0.019*\"vaccine\" + 0.017*\"australia\" + 0.015*\"test\" + 0.014*\"open\"\n",
      "\n"
     ]
    }
   ],
   "source": [
    "for sentence in sentences:\n",
    "    print(sentence)\n",
    "    bow_vector = dictionary.doc2bow(preprocess(sentence))\n",
    "    for index, score in sorted(lda_model[bow_vector], key=lambda tup: -1*tup[1]):\n",
    "        print(\"Score: {}\\t Topic_id {}\\t Topic: {}\".format(score, index, lda_model.print_topic(index, 5)))\n",
    "    print()"
   ]
  },
  {
   "cell_type": "code",
   "execution_count": null,
   "id": "3968a228",
   "metadata": {},
   "outputs": [],
   "source": []
  }
 ],
 "metadata": {
  "kernelspec": {
   "display_name": "Python 3 (ipykernel)",
   "language": "python",
   "name": "python3"
  },
  "language_info": {
   "codemirror_mode": {
    "name": "ipython",
    "version": 3
   },
   "file_extension": ".py",
   "mimetype": "text/x-python",
   "name": "python",
   "nbconvert_exporter": "python",
   "pygments_lexer": "ipython3",
   "version": "3.11.7"
  }
 },
 "nbformat": 4,
 "nbformat_minor": 5
}
